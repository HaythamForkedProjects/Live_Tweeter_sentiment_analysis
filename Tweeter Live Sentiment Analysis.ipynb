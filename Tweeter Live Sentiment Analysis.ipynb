{
 "cells": [
  {
   "cell_type": "code",
   "execution_count": 14,
   "metadata": {
    "collapsed": true
   },
   "outputs": [],
   "source": [
    "import pandas as pd\n",
    "import numpy as np\n",
    "import matplotlib.pyplot as plt\n",
    "import seaborn as sns\n",
    "import random\n",
    "%matplotlib inline"
   ]
  },
  {
   "cell_type": "code",
   "execution_count": null,
   "metadata": {
    "collapsed": true
   },
   "outputs": [],
   "source": [
    "import pickle\n",
    "from nltk.corpus import movie_reviews\n",
    "from nltk import FreqDist\n",
    "from nltk.corpus import stopwords\n",
    "import operator\n",
    "from nltk.tokenize import word_tokenize"
   ]
  },
  {
   "cell_type": "markdown",
   "metadata": {},
   "source": [
    "# Functions"
   ]
  },
  {
   "cell_type": "markdown",
   "metadata": {},
   "source": [
    "Get the most influential words in a given category"
   ]
  },
  {
   "cell_type": "code",
   "execution_count": 1,
   "metadata": {
    "collapsed": false
   },
   "outputs": [],
   "source": [
    "def mostInfluential(clf, wordFeatures, category):\n",
    "    Influence = {}\n",
    "    prior = clf.prob_classify(featureFinder('', wordFeature)).prob(category)\n",
    "    for word in wordFeatures:\n",
    "        ratio = float(clf.prob_classify(featureFinder(word, wordFeature)).prob(category))/prior\n",
    "        if ratio >= 1:\n",
    "            Influence[word] = ratio\n",
    "    \n",
    "    sortedInfluence = sorted(Influence.items(), key=operator.itemgetter(1), reverse=True)\n",
    "    return sortedInfluence"
   ]
  },
  {
   "cell_type": "markdown",
   "metadata": {},
   "source": [
    "Correct for bias towards negative prediction"
   ]
  },
  {
   "cell_type": "code",
   "execution_count": 2,
   "metadata": {
    "collapsed": true
   },
   "outputs": [],
   "source": [
    "def classify(cls, text, features):\n",
    "    prior = cls.prob_classify(featureFinder('', features)).prob('neg')\n",
    "    ratio = float(cls.prob_classify(featureFinder(text, features)).prob('neg'))/prior\n",
    "    if ratio > 1:\n",
    "        return ('Neg', ratio)\n",
    "    elif ratio < 1:\n",
    "        return ('Pos', ratio)\n",
    "    elif ratio == 1:\n",
    "        return (\"Neutral\", ratio)"
   ]
  },
  {
   "cell_type": "markdown",
   "metadata": {},
   "source": [
    "Find the features from a given text and label True / False for the existence of the feature in the text"
   ]
  },
  {
   "cell_type": "code",
   "execution_count": 3,
   "metadata": {
    "collapsed": false
   },
   "outputs": [],
   "source": [
    "def featureFinder(doc, wordFeature):\n",
    "    \n",
    "    if type(doc) == str:\n",
    "        words = set(doc.split())\n",
    "        features = {}\n",
    "        for word in wordFeature:\n",
    "            features[word] = (word in words)\n",
    "\n",
    "        return features\n",
    "    \n",
    "    else:\n",
    "        words = set(doc)\n",
    "        features = {}\n",
    "        for word in wordFeature:\n",
    "            features[word] = (word in words)\n",
    "\n",
    "        return features    "
   ]
  },
  {
   "cell_type": "markdown",
   "metadata": {},
   "source": [
    "Computes the Pos to Neg ratio in the training and test set"
   ]
  },
  {
   "cell_type": "code",
   "execution_count": 4,
   "metadata": {
    "collapsed": false
   },
   "outputs": [],
   "source": [
    "def posNegRatioTrainTest(train, test):\n",
    "    trainPos = 0\n",
    "    trainNeg = 0\n",
    "    for i in range(len(train)):\n",
    "        if train[i][1] == 'pos':\n",
    "            trainPos += 1\n",
    "        elif train[i][1] == 'neg':\n",
    "            trainNeg += 1\n",
    "            \n",
    "    trainRatio = float(trainPos)/(float(trainPos) + trainNeg)\n",
    "\n",
    "    print 'Pos to Neg ratio in train set is: {} pos : {} neg - ({:.2f}% pos)'.format(trainPos, trainNeg, trainRatio)\n",
    "    \n",
    "    testPos = 0\n",
    "    testNeg = 0\n",
    "    for i in range(len(test)):\n",
    "        if test[i][1] == 'pos':\n",
    "            testPos += 1\n",
    "        elif test[i][1] == 'neg':\n",
    "            testNeg += 1\n",
    "            \n",
    "    testRatio = float(testPos)/(float(testPos) + testNeg)\n",
    "\n",
    "    print 'Pos to Neg ratio in test set is: {} pos : {} neg - ({:.2f}% pos)'.format(testPos, testNeg, testRatio)"
   ]
  },
  {
   "cell_type": "markdown",
   "metadata": {},
   "source": [
    "# nltk training data"
   ]
  },
  {
   "cell_type": "markdown",
   "metadata": {},
   "source": [
    "First train data: the NLTK movie review data"
   ]
  },
  {
   "cell_type": "code",
   "execution_count": 13,
   "metadata": {
    "collapsed": false
   },
   "outputs": [],
   "source": [
    "data = [(list(movie_reviews.words(fileid)), str(category))\n",
    "        for category in movie_reviews.categories()\n",
    "        for fileid in movie_reviews.fileids(category)]"
   ]
  },
  {
   "cell_type": "markdown",
   "metadata": {},
   "source": [
    "##### Clean the raw data"
   ]
  },
  {
   "cell_type": "code",
   "execution_count": 14,
   "metadata": {
    "collapsed": false
   },
   "outputs": [],
   "source": [
    "allWordsLower = [str(word.lower()) for word in movie_reviews.words()]\n",
    "\n",
    "stopWordsList = stopwords.words('english')\n",
    "\n",
    "allWordsLowerClean = []\n",
    "for word in allWordsLower:\n",
    "    try:\n",
    "        if ((word not in stopWordsList) & (len(word) >= 2)):\n",
    "            allWordsLowerClean.append(str(word))\n",
    "    except:\n",
    "        continue"
   ]
  },
  {
   "cell_type": "markdown",
   "metadata": {},
   "source": [
    "##### Extract features"
   ]
  },
  {
   "cell_type": "code",
   "execution_count": 15,
   "metadata": {
    "collapsed": true
   },
   "outputs": [],
   "source": [
    "allWordsDist = FreqDist(allWordsLowerClean)\n",
    "\n",
    "wordFeatureNltk = [word for (word, n) in allWordsDist.most_common()[7:4000]]"
   ]
  },
  {
   "cell_type": "markdown",
   "metadata": {},
   "source": [
    "##### Train test split"
   ]
  },
  {
   "cell_type": "code",
   "execution_count": 37,
   "metadata": {
    "collapsed": false
   },
   "outputs": [],
   "source": [
    "for i in range(len(data)):\n",
    "    for j in range(len(data[i][0])):\n",
    "        data[i][0][j] = str(data[i][0][j])"
   ]
  },
  {
   "cell_type": "code",
   "execution_count": 38,
   "metadata": {
    "collapsed": false
   },
   "outputs": [],
   "source": [
    "featureSetNltk = [(featureFinder(rev, wordFeatureNltk), cat) for (rev, cat) in data]\n",
    "\n",
    "random.shuffle(featureSetNltk)\n",
    "\n",
    "trainRatio = 0.8\n",
    "train = featureSet[:int(len(featureSetNltk)*trainRatio)]\n",
    "test = featureSet[int(len(featureSetNltk)*trainRatio):]"
   ]
  },
  {
   "cell_type": "code",
   "execution_count": 39,
   "metadata": {
    "collapsed": false
   },
   "outputs": [
    {
     "name": "stdout",
     "output_type": "stream",
     "text": [
      "Pos to Neg ratio in train set is: 793 pos : 807 neg - (0.50% pos)\n",
      "Pos to Neg ratio in test set is: 4170 pos : 4211 neg - (0.50% pos)\n"
     ]
    }
   ],
   "source": [
    "posNegRatioTrainTest(train, test)"
   ]
  },
  {
   "cell_type": "markdown",
   "metadata": {},
   "source": [
    "# Tweeter training data"
   ]
  },
  {
   "cell_type": "markdown",
   "metadata": {},
   "source": [
    "Second training data: labeled tweeter feeds"
   ]
  },
  {
   "cell_type": "code",
   "execution_count": 16,
   "metadata": {
    "collapsed": true
   },
   "outputs": [],
   "source": [
    "tweeterData = pd.read_csv('training.1600000.processed.noemoticon.csv', header=None)"
   ]
  },
  {
   "cell_type": "code",
   "execution_count": 17,
   "metadata": {
    "collapsed": false
   },
   "outputs": [],
   "source": [
    "tweeterData = tweeterData[[0,5]]\n",
    "\n",
    "tweeterData.columns = ['lab', 'tweet']\n",
    "\n",
    "labNew = []\n",
    "for val in tweeterData.lab:\n",
    "    if val == 0:\n",
    "        labNew.append('neg')\n",
    "    elif val == 4:\n",
    "        labNew.append('pos')\n",
    "\n",
    "tweeterData.lab = labNew"
   ]
  },
  {
   "cell_type": "code",
   "execution_count": 18,
   "metadata": {
    "collapsed": false
   },
   "outputs": [],
   "source": [
    "tweeterDataList = []\n",
    "size = 10000\n",
    "tweeterDatasample = tweeterData.sample(size)\n",
    "tweeterDatasample.index = range(len(tweeterDatasample))\n",
    "for i in range(tweeterDatasample.shape[0]):\n",
    "    try:\n",
    "        tweeterDataList.append([word_tokenize(tweeterDatasample.tweet[i]), tweeterDatasample.lab[i]])\n",
    "    except:\n",
    "        continue"
   ]
  },
  {
   "cell_type": "markdown",
   "metadata": {},
   "source": [
    "##### Clean raw data"
   ]
  },
  {
   "cell_type": "code",
   "execution_count": 22,
   "metadata": {
    "collapsed": true
   },
   "outputs": [],
   "source": [
    "def cleanUpWords(listOfWords):\n",
    "    \n",
    "    stopWordsList = stopwords.words('english')\n",
    "    stopChar = ['.', ',', ':',';', \"'\", '/']\n",
    "\n",
    "    allWordsLowerClean = []\n",
    "    for word in allWordsLower:\n",
    "        try:\n",
    "            if ((word not in stopWordsList) & (word not in stopChar) & (word.isalpha()) & (len(word) >= 2)):\n",
    "                allWordsLowerClean.append(str(word))\n",
    "        except:\n",
    "            continue\n",
    "    \n",
    "    p = float(len(allWordsLowerClean))/len(listOfWords)\n",
    "    \n",
    "    print 'Length of clean words list: {} ({:.2f}% of original)'.format(len(allWordsLowerClean), p*100)\n",
    "    print \n",
    "    return allWordsLowerClean"
   ]
  },
  {
   "cell_type": "code",
   "execution_count": 23,
   "metadata": {
    "collapsed": true
   },
   "outputs": [],
   "source": [
    "allWordsLower = []\n",
    "for i in range(len(tweeterDataList)):\n",
    "    for word in tweeterDataList[i][0]:\n",
    "        allWordsLower.append(word.lower())"
   ]
  },
  {
   "cell_type": "code",
   "execution_count": 24,
   "metadata": {
    "collapsed": false
   },
   "outputs": [
    {
     "name": "stderr",
     "output_type": "stream",
     "text": [
      "C:\\Users\\dell\\Anaconda2\\lib\\site-packages\\ipykernel\\__main__.py:9: UnicodeWarning: Unicode equal comparison failed to convert both arguments to Unicode - interpreting them as being unequal\n"
     ]
    },
    {
     "name": "stdout",
     "output_type": "stream",
     "text": [
      "Length of clean words list: 71517 (43.92% of original)\n",
      "\n"
     ]
    }
   ],
   "source": [
    "allWordsLowerClean = cleanUpWords(allWordsLower)"
   ]
  },
  {
   "cell_type": "markdown",
   "metadata": {},
   "source": [
    "##### Extract features"
   ]
  },
  {
   "cell_type": "code",
   "execution_count": 25,
   "metadata": {
    "collapsed": true
   },
   "outputs": [],
   "source": [
    "allWordsDist = FreqDist(allWordsLowerClean)\n",
    "\n",
    "wordFeature = [word for (word, n) in allWordsDist.most_common()[:4000]]"
   ]
  },
  {
   "cell_type": "code",
   "execution_count": 18,
   "metadata": {
    "collapsed": false
   },
   "outputs": [
    {
     "data": {
      "text/plain": [
       "[('good', 569),\n",
       " ('get', 538),\n",
       " ('like', 478),\n",
       " ('go', 472),\n",
       " ('day', 469),\n",
       " ('got', 434),\n",
       " ('http', 426),\n",
       " ('today', 408),\n",
       " ('work', 399),\n",
       " ('quot', 389),\n",
       " ('going', 385),\n",
       " ('love', 381),\n",
       " ('back', 379),\n",
       " ('lol', 376),\n",
       " ('time', 363)]"
      ]
     },
     "execution_count": 18,
     "metadata": {},
     "output_type": "execute_result"
    }
   ],
   "source": [
    "allWordsDist.most_common(4000)[:15]"
   ]
  },
  {
   "cell_type": "markdown",
   "metadata": {},
   "source": [
    "##### Train test split"
   ]
  },
  {
   "cell_type": "code",
   "execution_count": 28,
   "metadata": {
    "collapsed": false
   },
   "outputs": [],
   "source": [
    "featureSet = [(featureFinder(rev, wordFeature), cat) for (rev, cat) in tweeterDataList]\n",
    "\n",
    "random.shuffle(featureSet)\n",
    "\n",
    "trainRatio = 0.8\n",
    "train = featureSet[:int(len(featureSet)*trainRatio)]\n",
    "test = featureSet[int(len(featureSet)*trainRatio):]"
   ]
  },
  {
   "cell_type": "code",
   "execution_count": 20,
   "metadata": {
    "collapsed": false
   },
   "outputs": [
    {
     "name": "stdout",
     "output_type": "stream",
     "text": [
      "Pos to Neg ratio in train set is: 4021 pos : 3965 neg - (0.50% pos)\n",
      "Pos to Neg ratio in test set is: 975 pos : 1022 neg - (0.49% pos)\n"
     ]
    }
   ],
   "source": [
    "posNegRatioTrainTest(train, test)"
   ]
  },
  {
   "cell_type": "markdown",
   "metadata": {},
   "source": [
    "# Train classifiers"
   ]
  },
  {
   "cell_type": "code",
   "execution_count": 31,
   "metadata": {
    "collapsed": true
   },
   "outputs": [],
   "source": [
    "from nltk import NaiveBayesClassifier as nb\n",
    "from nltk.classify import accuracy\n",
    "from nltk.classify.scikitlearn import SklearnClassifier\n",
    "from sklearn.linear_model import LogisticRegression\n",
    "from sklearn.naive_bayes import BernoulliNB\n",
    "from sklearn.ensemble import AdaBoostClassifier, ExtraTreesClassifier"
   ]
  },
  {
   "cell_type": "code",
   "execution_count": 149,
   "metadata": {
    "collapsed": false
   },
   "outputs": [
    {
     "name": "stdout",
     "output_type": "stream",
     "text": [
      "LR: Training accuracy: 1.00, Testing accuracy 0.84\n"
     ]
    }
   ],
   "source": [
    "lmMod = SklearnClassifier(LogisticRegression(penalty='l2', C=1.0, fit_intercept=True))\n",
    "lmMod.train(train)\n",
    "print 'LR: Training accuracy: {trainA:.2f}, Testing accuracy {testA:.2f}'.format(trainA=accuracy(lmMod, train),\n",
    "                                                                         testA=accuracy(lmMod, test))"
   ]
  },
  {
   "cell_type": "code",
   "execution_count": 174,
   "metadata": {
    "collapsed": false
   },
   "outputs": [
    {
     "name": "stdout",
     "output_type": "stream",
     "text": [
      "LR: Training accuracy: 0.89, Testing accuracy 0.79\n"
     ]
    }
   ],
   "source": [
    "nbBernoulliMod = SklearnClassifier(BernoulliNB(alpha=1.0, fit_prior=True))\n",
    "nbBernoulliMod.train(train)\n",
    "print 'LR: Training accuracy: {trainA:.2f}, Testing accuracy {testA:.2f}'.format(trainA=accuracy(nbBernoulliMod, train),\n",
    "                                                                                 testA=accuracy(nbBernoulliMod, test))"
   ]
  },
  {
   "cell_type": "code",
   "execution_count": 175,
   "metadata": {
    "collapsed": false
   },
   "outputs": [
    {
     "name": "stdout",
     "output_type": "stream",
     "text": [
      "LR: Training accuracy: 0.87, Testing accuracy 0.75\n"
     ]
    }
   ],
   "source": [
    "adaMod = SklearnClassifier(AdaBoostClassifier(base_estimator=None, n_estimators=50, learning_rate=1.0))\n",
    "adaMod.train(train)\n",
    "print 'LR: Training accuracy: {trainA:.2f}, Testing accuracy {testA:.2f}'.format(trainA=accuracy(adaMod, train),\n",
    "                                                                                 testA=accuracy(adaMod, test))"
   ]
  },
  {
   "cell_type": "code",
   "execution_count": 176,
   "metadata": {
    "collapsed": false
   },
   "outputs": [
    {
     "name": "stdout",
     "output_type": "stream",
     "text": [
      "LR: Training accuracy: 1.00, Testing accuracy 0.69\n"
     ]
    }
   ],
   "source": [
    "treeMod = SklearnClassifier(ExtraTreesClassifier())\n",
    "treeMod.train(train)\n",
    "print 'LR: Training accuracy: {trainA:.2f}, Testing accuracy {testA:.2f}'.format(trainA=accuracy(treeMod, train),\n",
    "                                                                                 testA=accuracy(treeMod, test))"
   ]
  },
  {
   "cell_type": "markdown",
   "metadata": {},
   "source": [
    "### Hyper-parameter optimization "
   ]
  },
  {
   "cell_type": "markdown",
   "metadata": {},
   "source": [
    "Perform a randomized grid search for hyper parameter tuning on the best out-of-the-box algorithms"
   ]
  },
  {
   "cell_type": "code",
   "execution_count": 30,
   "metadata": {
    "collapsed": true
   },
   "outputs": [],
   "source": [
    "from scipy.stats import randint\n",
    "import operator"
   ]
  },
  {
   "cell_type": "code",
   "execution_count": 21,
   "metadata": {
    "collapsed": true
   },
   "outputs": [],
   "source": [
    "def randomizedGridSearch(cls, train, test, param_distributions, n_iter=10, verbose=False):\n",
    "    result = {}\n",
    "    \n",
    "    for i in range(n_iter):\n",
    "        \n",
    "        #Get params\n",
    "        params = {}\n",
    "        for key in param_distributions.iterkeys():\n",
    "            params[key] = [np.random.choice(val) for (k, val) in param_distributions.iteritems() if k == key][0]\n",
    "        \n",
    "        #Params update\n",
    "        clsWithParams = SklearnClassifier(cls.set_params(**params))\n",
    "        \n",
    "        #train\n",
    "        clsWithParamsTrained = clsWithParams.train(train)\n",
    "        \n",
    "        #Train and test accuracy\n",
    "        trainAccuracy = accuracy(clsWithParamsTrained, train)\n",
    "        testAccuracy = accuracy(clsWithParamsTrained, test)\n",
    "        \n",
    "        paramsList = [(ke, val) for (ke, val) in params.iteritems()]\n",
    "\n",
    "        result[len(result)+1] = [testAccuracy, trainAccuracy, paramsList]\n",
    "        \n",
    "        if verbose == True:\n",
    "            print 'Best so far: {}'.format(sorted(result.items(), key=operator.itemgetter(1), reverse=True)[0])\n",
    "    \n",
    "    resultSorted = sorted(result.items(), key=operator.itemgetter(1), reverse=True)\n",
    "    bestTestAccuracy = resultSorted[0][1][0]\n",
    "    bestTrainAccuracy = resultSorted[0][1][1]\n",
    "    \n",
    "    print 'Best Test Accuracy: {:.3f}%'.format(bestTestAccuracy)\n",
    "    print 'Train Accuracy: {:.3f}%'.format(bestTrainAccuracy)\n",
    "    print 'Parameters: {}'.format(resultSorted[0][1][2])\n",
    "    \n",
    "    return sorted(result.items(), key=operator.itemgetter(1), reverse=True)"
   ]
  },
  {
   "cell_type": "markdown",
   "metadata": {},
   "source": [
    "##### Logistic regression"
   ]
  },
  {
   "cell_type": "code",
   "execution_count": 111,
   "metadata": {
    "collapsed": true
   },
   "outputs": [],
   "source": [
    "lmModSklearn = LogisticRegression(penalty='l2', C=1.0, fit_intercept=True)"
   ]
  },
  {
   "cell_type": "code",
   "execution_count": 110,
   "metadata": {
    "collapsed": true
   },
   "outputs": [],
   "source": [
    "HyperParams = {'penalty': ['l2', 'l1'], 'C': np.arange(0,10,0.1), 'fit_intercept': [True, False]}"
   ]
  },
  {
   "cell_type": "code",
   "execution_count": 201,
   "metadata": {
    "collapsed": false
   },
   "outputs": [
    {
     "name": "stdout",
     "output_type": "stream",
     "text": [
      "Best Test Accuracy: 0.835%\n",
      "Best Train Accuracy: 1.000%\n",
      "Parameters: [('penalty', 'l2'), ('C', 3.1000000000000001), ('fit_intercept', True)]\n"
     ]
    }
   ],
   "source": [
    "bestLm = randomizedGridSearch(lmModSklearn, train=train, test=test, param_distributions=HyperParams, n_iter=10)"
   ]
  },
  {
   "cell_type": "markdown",
   "metadata": {},
   "source": [
    "##### Adaboost"
   ]
  },
  {
   "cell_type": "code",
   "execution_count": 34,
   "metadata": {
    "collapsed": true
   },
   "outputs": [],
   "source": [
    "adaModSklearn = AdaBoostClassifier(n_estimators=50)"
   ]
  },
  {
   "cell_type": "code",
   "execution_count": 35,
   "metadata": {
    "collapsed": true
   },
   "outputs": [],
   "source": [
    "HyperParamsAda = {'n_estimators': np.arange(50,500,50)}"
   ]
  },
  {
   "cell_type": "code",
   "execution_count": null,
   "metadata": {
    "collapsed": false
   },
   "outputs": [],
   "source": [
    "bestAda = randomizedGridSearch(adaModSklearn, train=train, test=test, param_distributions=HyperParamsAda, verbose=True,\n",
    "                               n_iter=10)"
   ]
  },
  {
   "cell_type": "code",
   "execution_count": 45,
   "metadata": {
    "collapsed": false
   },
   "outputs": [
    {
     "data": {
      "text/plain": [
       "(8, [0.8175, 1.0, [('n_estimators', 400)]])"
      ]
     },
     "execution_count": 45,
     "metadata": {},
     "output_type": "execute_result"
    }
   ],
   "source": [
    "bestAda[0]"
   ]
  },
  {
   "cell_type": "markdown",
   "metadata": {},
   "source": [
    "##### Naive bayes - Bernoulli"
   ]
  },
  {
   "cell_type": "code",
   "execution_count": 46,
   "metadata": {
    "collapsed": true
   },
   "outputs": [],
   "source": [
    "nbModSklearn = BernoulliNB(alpha=1.0, binarize=None, fit_prior=True)"
   ]
  },
  {
   "cell_type": "code",
   "execution_count": 49,
   "metadata": {
    "collapsed": false
   },
   "outputs": [],
   "source": [
    "HyperParamsNb = {'alpha': np.arange(0.1, 2.0, 0.1), 'fit_prior': [True, False]}"
   ]
  },
  {
   "cell_type": "code",
   "execution_count": 50,
   "metadata": {
    "collapsed": false
   },
   "outputs": [
    {
     "name": "stdout",
     "output_type": "stream",
     "text": [
      "Best so far: (1, [0.805, 0.888125, [('alpha', 0.59999999999999998), ('fit_prior', True)]])\n",
      "Best so far: (2, [0.8075, 0.889375, [('alpha', 0.30000000000000004), ('fit_prior', True)]])\n",
      "Best so far: (3, [0.8075, 0.889375, [('alpha', 0.40000000000000002), ('fit_prior', True)]])\n",
      "Best so far: (3, [0.8075, 0.889375, [('alpha', 0.40000000000000002), ('fit_prior', True)]])\n",
      "Best so far: (3, [0.8075, 0.889375, [('alpha', 0.40000000000000002), ('fit_prior', True)]])\n",
      "Best so far: (3, [0.8075, 0.889375, [('alpha', 0.40000000000000002), ('fit_prior', True)]])\n",
      "Best so far: (3, [0.8075, 0.889375, [('alpha', 0.40000000000000002), ('fit_prior', True)]])\n",
      "Best so far: (3, [0.8075, 0.889375, [('alpha', 0.40000000000000002), ('fit_prior', True)]])\n",
      "Best so far: (3, [0.8075, 0.889375, [('alpha', 0.40000000000000002), ('fit_prior', True)]])\n",
      "Best so far: (3, [0.8075, 0.889375, [('alpha', 0.40000000000000002), ('fit_prior', True)]])\n",
      "Best Test Accuracy: 0.807%\n",
      "Train Accuracy: 0.889%\n",
      "Parameters: [('alpha', 0.40000000000000002), ('fit_prior', True)]\n"
     ]
    }
   ],
   "source": [
    "bestNb = randomizedGridSearch(nbModSklearn, train=train, test=test, param_distributions=HyperParamsNb, verbose=True,\n",
    "                               n_iter=10)"
   ]
  },
  {
   "cell_type": "markdown",
   "metadata": {},
   "source": [
    "### Best trained classifier "
   ]
  },
  {
   "cell_type": "markdown",
   "metadata": {},
   "source": [
    "Logistic regression had proven to have the best test score under close-to-optimal parameter"
   ]
  },
  {
   "cell_type": "code",
   "execution_count": 40,
   "metadata": {
    "collapsed": true
   },
   "outputs": [],
   "source": [
    "lmMod = SklearnClassifier(LogisticRegression(penalty='l2', C=3.1, fit_intercept=True)).train(train)"
   ]
  },
  {
   "cell_type": "markdown",
   "metadata": {},
   "source": [
    "# Classifiers for tweeter data"
   ]
  },
  {
   "cell_type": "markdown",
   "metadata": {},
   "source": [
    "##### NB"
   ]
  },
  {
   "cell_type": "code",
   "execution_count": 124,
   "metadata": {
    "collapsed": true
   },
   "outputs": [],
   "source": [
    "nbBernoulliModSklearn = BernoulliNB(alpha=1.0, fit_prior=True)"
   ]
  },
  {
   "cell_type": "code",
   "execution_count": 123,
   "metadata": {
    "collapsed": true
   },
   "outputs": [],
   "source": [
    "HyperParams = {'alpha': np.arange(0.1, 1, 0.1), 'fit_prior': [True, False]}"
   ]
  },
  {
   "cell_type": "code",
   "execution_count": 125,
   "metadata": {
    "collapsed": false
   },
   "outputs": [
    {
     "name": "stdout",
     "output_type": "stream",
     "text": [
      "Best Test Accuracy: 0.694%\n",
      "Train Accuracy: 0.768%\n",
      "Parameters: [('alpha', 0.90000000000000002), ('fit_prior', False)]\n"
     ]
    }
   ],
   "source": [
    "bestNb = randomizedGridSearch(nbBernoulliModSklearn, train=train, test=test, param_distributions=HyperParams, n_iter=3)"
   ]
  },
  {
   "cell_type": "markdown",
   "metadata": {},
   "source": [
    "##### Adaboost"
   ]
  },
  {
   "cell_type": "code",
   "execution_count": 32,
   "metadata": {
    "collapsed": false
   },
   "outputs": [
    {
     "name": "stdout",
     "output_type": "stream",
     "text": [
      "LR: Training accuracy: 0.76, Testing accuracy 0.69\n"
     ]
    }
   ],
   "source": [
    "adaMod = SklearnClassifier(AdaBoostClassifier(n_estimators=400))\n",
    "adaMod.train(train)\n",
    "print 'LR: Training accuracy: {trainA:.2f}, Testing accuracy {testA:.2f}'.format(trainA=accuracy(adaMod, train),\n",
    "                                                                                 testA=accuracy(adaMod, test))"
   ]
  },
  {
   "cell_type": "markdown",
   "metadata": {},
   "source": [
    "# Most influential words"
   ]
  },
  {
   "cell_type": "markdown",
   "metadata": {},
   "source": [
    "##### positive"
   ]
  },
  {
   "cell_type": "code",
   "execution_count": 314,
   "metadata": {
    "collapsed": false
   },
   "outputs": [],
   "source": [
    "mostInfluentialPos = mostInfluential(lmMod, wordFeature, 'pos')"
   ]
  },
  {
   "cell_type": "code",
   "execution_count": 316,
   "metadata": {
    "collapsed": false
   },
   "outputs": [
    {
     "data": {
      "text/plain": [
       "[('memorable', 1.6686661817736148),\n",
       " ('fun', 1.6116454575097316),\n",
       " ('others', 1.5758957749232394),\n",
       " ('entertaining', 1.5587181737399405),\n",
       " ('great', 1.5121944514923431),\n",
       " ('flaws', 1.5063749816992675),\n",
       " ('follows', 1.5048846485478768),\n",
       " ('wonderfully', 1.4913498872733659),\n",
       " ('perfectly', 1.4851087883482714),\n",
       " ('hilarious', 1.4841155081937412)]"
      ]
     },
     "execution_count": 316,
     "metadata": {},
     "output_type": "execute_result"
    }
   ],
   "source": [
    "mostInfluentialPos[:10]"
   ]
  },
  {
   "cell_type": "markdown",
   "metadata": {},
   "source": [
    "##### Negative"
   ]
  },
  {
   "cell_type": "code",
   "execution_count": 315,
   "metadata": {
    "collapsed": true
   },
   "outputs": [],
   "source": [
    "mostInfluentialNeg = mostInfluential(lmMod, wordFeature, 'neg')"
   ]
  },
  {
   "cell_type": "code",
   "execution_count": 317,
   "metadata": {
    "collapsed": false
   },
   "outputs": [
    {
     "data": {
      "text/plain": [
       "[('waste', 1.3076512353414507),\n",
       " ('bad', 1.2699673626082277),\n",
       " ('awful', 1.2660271555268869),\n",
       " ('worst', 1.2572890183372623),\n",
       " ('nothing', 1.2512505691481495),\n",
       " ('script', 1.2460811697797773),\n",
       " ('boring', 1.2459275772862117),\n",
       " ('mess', 1.2409053826267469),\n",
       " ('plot', 1.2360598127193507),\n",
       " ('supposed', 1.233749965876364)]"
      ]
     },
     "execution_count": 317,
     "metadata": {},
     "output_type": "execute_result"
    }
   ],
   "source": [
    "mostInfluentialNeg[:10]"
   ]
  },
  {
   "cell_type": "markdown",
   "metadata": {},
   "source": [
    "# Pickle the classifiers"
   ]
  },
  {
   "cell_type": "code",
   "execution_count": 5,
   "metadata": {
    "collapsed": true
   },
   "outputs": [],
   "source": [
    "import cPickle\n",
    "import pickle"
   ]
  },
  {
   "cell_type": "markdown",
   "metadata": {},
   "source": [
    "##### save"
   ]
  },
  {
   "cell_type": "code",
   "execution_count": 34,
   "metadata": {
    "collapsed": false
   },
   "outputs": [],
   "source": [
    "with open('adaModSA.pkl', 'wb') as fid:\n",
    "    cPickle.dump(adaMod, fid) "
   ]
  },
  {
   "cell_type": "code",
   "execution_count": 42,
   "metadata": {
    "collapsed": true
   },
   "outputs": [],
   "source": [
    "with open('lmModSA.pkl', 'wb') as fid:\n",
    "    cPickle.dump(lmMod, fid) "
   ]
  },
  {
   "cell_type": "code",
   "execution_count": 26,
   "metadata": {
    "collapsed": true
   },
   "outputs": [],
   "source": [
    "w1 = pickle.dump(wordFeature, open( \"wordFeatureTweets.p\", \"wb\" ))"
   ]
  },
  {
   "cell_type": "code",
   "execution_count": 20,
   "metadata": {
    "collapsed": true
   },
   "outputs": [],
   "source": [
    "w2 = pickle.dump(wordFeatureNltk, open( \"wordFeatureNltk.p\", \"wb\" ))"
   ]
  },
  {
   "cell_type": "markdown",
   "metadata": {},
   "source": [
    "##### load"
   ]
  },
  {
   "cell_type": "code",
   "execution_count": 6,
   "metadata": {
    "collapsed": false
   },
   "outputs": [],
   "source": [
    "wordFeature = pickle.load(open('wordFeatureTweets.p'))\n",
    "wordFeatureNltk = pickle.load(open('wordFeatureNltk.p'))"
   ]
  },
  {
   "cell_type": "code",
   "execution_count": 7,
   "metadata": {
    "collapsed": false
   },
   "outputs": [],
   "source": [
    "with open('lmModSA.pkl', 'rb') as fid:\n",
    "    lmMod = cPickle.load(fid)"
   ]
  },
  {
   "cell_type": "code",
   "execution_count": 8,
   "metadata": {
    "collapsed": true
   },
   "outputs": [],
   "source": [
    "with open('adaModSA.pkl', 'rb') as fid:\n",
    "    adaMod = cPickle.load(fid)"
   ]
  },
  {
   "cell_type": "markdown",
   "metadata": {},
   "source": [
    "# Ensamble classifier"
   ]
  },
  {
   "cell_type": "markdown",
   "metadata": {},
   "source": [
    "Create a classifier that uses both models trained and combine them in a dictator type ensemble. Hence, only if the two algorithms agree on a class the class is chosen."
   ]
  },
  {
   "cell_type": "code",
   "execution_count": 9,
   "metadata": {
    "collapsed": true
   },
   "outputs": [],
   "source": [
    "def uberClassify(cls, words, text):\n",
    "    uberScore = {}\n",
    "    for i in range(len(cls)):\n",
    "        uberScore[len(uberScore)+1] = classify(cls=cls[i], text=text, features=words[i])[0]\n",
    "    \n",
    "    score = []\n",
    "    for key, item in uberScore.iteritems():\n",
    "        score.append(item)\n",
    "        \n",
    "    if all(x == score[0] for x in score):\n",
    "        return score[0]\n",
    "    else:\n",
    "        return 'Not sure'"
   ]
  },
  {
   "cell_type": "code",
   "execution_count": 10,
   "metadata": {
    "collapsed": false
   },
   "outputs": [
    {
     "data": {
      "text/plain": [
       "'Neg'"
      ]
     },
     "execution_count": 10,
     "metadata": {},
     "output_type": "execute_result"
    }
   ],
   "source": [
    "clss = [lmMod, adaMod]\n",
    "words = [wordFeatureNltk, wordFeature]\n",
    "text = 'i hate everybody'.lower()\n",
    "uberClassify(clss, words, text)"
   ]
  },
  {
   "cell_type": "markdown",
   "metadata": {},
   "source": [
    "# Tweeter live stream plot"
   ]
  },
  {
   "cell_type": "markdown",
   "metadata": {},
   "source": [
    "Streaming live tweeter feed via the tweeter API, classifying it and plotting the Pos to Neg ratio live"
   ]
  },
  {
   "cell_type": "markdown",
   "metadata": {},
   "source": [
    "##### Reset the tweet log"
   ]
  },
  {
   "cell_type": "code",
   "execution_count": 25,
   "metadata": {
    "collapsed": true
   },
   "outputs": [],
   "source": [
    "def logReset(fileN):\n",
    "    with open(fileN, \"w\"):\n",
    "        pass\n",
    "    \n",
    "    if fileN == 'twitter-out-tweets.txt':\n",
    "        f = open(fileN,\"a\")\n",
    "        f.write('Pos')\n",
    "        f.write('\\n')\n",
    "        f.write('Neg')\n",
    "        f.close()"
   ]
  },
  {
   "cell_type": "markdown",
   "metadata": {},
   "source": [
    "##### Most popular Hashtags extraction"
   ]
  },
  {
   "cell_type": "code",
   "execution_count": 16,
   "metadata": {
    "collapsed": true
   },
   "outputs": [],
   "source": [
    "from nltk.tokenize import word_tokenize\n",
    "from collections import Counter"
   ]
  },
  {
   "cell_type": "code",
   "execution_count": 49,
   "metadata": {
    "collapsed": false
   },
   "outputs": [],
   "source": [
    "def popularHashtags(txt='twitter-out-hashtags.txt'):\n",
    "\n",
    "    pullDataHash = open(txt,\"r\").read()\n",
    "    dataArrayHas = pullDataHash.split('\\n')\n",
    "\n",
    "    allHash = [h for h in dataArrayHas if ((len(h) > 2))]\n",
    "\n",
    "    allHashClean = []\n",
    "    for i in range(len(allHash)):\n",
    "        allHashClean.append(allHash[i][2:len(allHash[i])-2])\n",
    "    \n",
    "    allHashList = []\n",
    "    for s in allHashClean:\n",
    "        sToken = word_tokenize(s)\n",
    "        for word in sToken:\n",
    "            if len(word) > 1:\n",
    "                if ((word[0] == \"'\") & (word[-1] == \"'\")):\n",
    "                    allHashList.append('#' + word[1:len(word)-1])\n",
    "                elif (word[0] == \"'\"):\n",
    "                    allHashList.append('#' + word[1:])\n",
    "                elif (word[-1] == \"'\"):\n",
    "                    allHashList.append('#' + word[:len(word)-1])\n",
    "                else:\n",
    "                    allHashList.append('#' + word)         \n",
    "        \n",
    "    return Counter(allHashList).most_common()"
   ]
  },
  {
   "cell_type": "markdown",
   "metadata": {},
   "source": [
    "##### Stream prep"
   ]
  },
  {
   "cell_type": "code",
   "execution_count": 18,
   "metadata": {
    "collapsed": false
   },
   "outputs": [],
   "source": [
    "import numpy as np\n",
    "import plotly.plotly as py\n",
    "import plotly.tools as tls\n",
    "import plotly.graph_objs as go"
   ]
  },
  {
   "cell_type": "code",
   "execution_count": 19,
   "metadata": {
    "collapsed": false
   },
   "outputs": [],
   "source": [
    "stream_ids = tls.get_credentials_file()['stream_ids']\n",
    "\n",
    "stream_id = stream_ids[-2]"
   ]
  },
  {
   "cell_type": "code",
   "execution_count": 20,
   "metadata": {
    "collapsed": true
   },
   "outputs": [],
   "source": [
    "stream_1 = go.Stream(\n",
    "    token=stream_id,\n",
    "    maxpoints=80  \n",
    ")\n",
    "\n",
    "stream_1 = dict(token=stream_id, maxpoints=50)"
   ]
  },
  {
   "cell_type": "code",
   "execution_count": 21,
   "metadata": {
    "collapsed": false
   },
   "outputs": [],
   "source": [
    "trace1 = go.Scatter(\n",
    "    x=[],\n",
    "    y=[],\n",
    "    mode='lines+markers',\n",
    "    stream=stream_1 \n",
    ")\n",
    "\n",
    "data = go.Data([trace1])\n",
    "\n",
    "s = py.Stream(stream_id)\n",
    "\n",
    "s.open()"
   ]
  },
  {
   "cell_type": "markdown",
   "metadata": {},
   "source": [
    "##### Plot Hashtags"
   ]
  },
  {
   "cell_type": "code",
   "execution_count": 47,
   "metadata": {
    "collapsed": true
   },
   "outputs": [],
   "source": [
    "def plotHashtags(n=5):\n",
    "    df = pd.DataFrame(popularHashtags(), columns=['Hashtag', 'N'])[:n]\n",
    "\n",
    "    sns.set(font_scale=1.8)\n",
    "    ax = sns.barplot(data=df, y = 'Hashtag', x='N', orient='h',\n",
    "                     palette=sns.color_palette(palette='Blues', n_colors=len(df))[::-1])\n",
    "    plt.title('Most popular Hashtags', loc='left')\n",
    "    ax.set_xlabel(' ')\n",
    "    ax.set_ylabel(' ')\n",
    "    fig = plt.gcf()\n",
    "    fig.set_size_inches(15,5)"
   ]
  },
  {
   "cell_type": "markdown",
   "metadata": {},
   "source": [
    "### Tweeter listener"
   ]
  },
  {
   "cell_type": "code",
   "execution_count": 28,
   "metadata": {
    "collapsed": false
   },
   "outputs": [],
   "source": [
    "logReset('twitter-out-tweets.txt')"
   ]
  },
  {
   "cell_type": "code",
   "execution_count": 27,
   "metadata": {
    "collapsed": false
   },
   "outputs": [],
   "source": [
    "logReset('twitter-out-hashtags.txt')\n",
    "logReset('twitter-out-text.txt')"
   ]
  },
  {
   "cell_type": "code",
   "execution_count": 23,
   "metadata": {
    "collapsed": false
   },
   "outputs": [],
   "source": [
    "from __future__ import absolute_import, print_function\n",
    "\n",
    "from tweepy.streaming import StreamListener\n",
    "from tweepy import OAuthHandler\n",
    "from tweepy import Stream\n",
    "import json\n",
    "import datetime\n",
    "import time\n",
    "%matplotlib inline"
   ]
  },
  {
   "cell_type": "code",
   "execution_count": 29,
   "metadata": {
    "collapsed": true
   },
   "outputs": [],
   "source": [
    "consumer_key=\"<Your Key>\"\n",
    "consumer_secret=\"<Your Key>\"\n",
    "access_token=\"<Your Key>\"\n",
    "access_token_secret=\"<Your Key>\""
   ]
  },
  {
   "cell_type": "code",
   "execution_count": 30,
   "metadata": {
    "collapsed": false
   },
   "outputs": [],
   "source": [
    "def writeToFile(sent, hashtags, tweet):\n",
    "    \n",
    "    #Write sentiment to file\n",
    "    outputTweet = open(\"twitter-out-text.txt\",\"a\")\n",
    "    outputTweet.write('\\n')\n",
    "    outputTweet.write(str(tweet))\n",
    "    outputTweet.write('\\n')\n",
    "    outputTweet.close()\n",
    "    \n",
    "    #Write sentiment to file\n",
    "    outputTweet = open(\"twitter-out-tweets.txt\",\"a\")\n",
    "    outputTweet.write('\\n')\n",
    "    outputTweet.write(sent)\n",
    "    outputTweet.write('\\n')\n",
    "    outputTweet.close()\n",
    "\n",
    "    #Write hashtags to file\n",
    "    outputHash = open(\"twitter-out-hashtags.txt\",\"a\")\n",
    "    outputHash.write('\\n')\n",
    "    outputHash.write(str(hashtags))\n",
    "    outputHash.write('\\n')\n",
    "    outputHash.close()"
   ]
  },
  {
   "cell_type": "code",
   "execution_count": 32,
   "metadata": {
    "collapsed": true
   },
   "outputs": [],
   "source": [
    "pullData = open(\"twitter-out-tweets.txt\",\"r\").read()\n",
    "dataArray = pullData.split('\\n')"
   ]
  },
  {
   "cell_type": "code",
   "execution_count": 40,
   "metadata": {
    "collapsed": false,
    "scrolled": true
   },
   "outputs": [
    {
     "name": "stdout",
     "output_type": "stream",
     "text": [
      "#ebay #usa #deals #7150 sony sonnar t* fe 35mm f/2.8 za lens https://t.co/bnkvm2gwqq https://t.co/7jsni4y4no\n",
      "#ebay #usa #deals #1706 leica apo-vario-elmar-t 55-135mm f/3.5-4.5 asph lens https://t.co/b1ljm5oi5h https://t.co/v1cvu3vnlk\n",
      "jackpot raids - rust\n",
      "#usacasino #onlinecasino #playcasino #casino #casinoslots\n",
      "https://t.co/seznyzulgc https://t.co/vprvvmdd5k\n",
      "jackpot raids - rust\n",
      "#usacasino #onlinecasino #playcasino #casino #casinoslots\n",
      "https://t.co/seznyzulgc https://t.co/dglefiwy3o\n",
      "@business russia  allied  with  official  regime  usa  terrorist  pusher\n",
      "@bonkekolja neueste relativierung..\" aber er lebt schon lange in den usa\"\n",
      "https://t.co/nupwgzigm6: the financial training society has over 350,000 members in our networki... https://t.co/ynngd10pcg #finance #usa\n",
      "ranked in 14th in usa, popular line sticker cute alien pleia part 2\n",
      "https://t.co/dwxow4tihm\n",
      "https://t.co/eplfacjirp\n",
      "factoring finance: do you need information on anything to do with factoring finance. simply giv... https://t.co/qci5qjmfcn #finance #usa\n",
      "finance degree programs, online schools and accredited colleges: your online resource for finan... https://t.co/pj6kxuyvph #finance #usa\n",
      "#bestbuy #usa #9058 collins sleeve for microsoft surface 3 https://t.co/pxaypll5gi https://t.co/v59ruhupzl\n",
      "rt @benj_amin11: @airtel_ug internationalcallrates for prepaid \n",
      "#arsug2016 #thesmartphonenetwork\n",
      "usa and canada 6/=per sec\n",
      "rt @janimine: abbott says islam must change https://t.co/lpqb4p62cm   #patriots #tcot #tcop #pegida #ukip #usa https://t.co/t6uh9mabkj\n",
      "rt @benj_amin11: @airtel_ug internationalcallrates for prepaid \n",
      "#arsug2016 #thesmartphonenetwork\n",
      "usa and canada 6/=per sec, q\n",
      "rt @benj_amin11: @airtel_ug internationalcallrates for prepaid \n",
      "#arsug2016 #thesmartphonenetwork\n",
      "usa and canada 6/=per sec,w\n",
      "daily deals usa : htc desire eye m910x unlocked gsm 4g lte dual 13mp camera smartphone - white/red https://t.co/xxav5pvjfw #7883\n",
      "daily deals usa : htc desire eye m910x unlocked gsm 4g lte dual 13mp camera smartphone - white/red https://t.co/pf0egps4aa #9336\n",
      "rt @tcmsundaram: congrats @getcloudcherry @vinod_cc on closing $ 6m series a round and launching in usa\n",
      "daily deals usa : new oem samsung galaxy 2 s3 note ii oem micro usb cable 3ft https://t.co/aco9w3bjgu #9336\n",
      "check out 1970 me and you children couple paula usa vintage and retro collectible figure  https://t.co/tvkqznvxlr via @ebay\n",
      "@suarezpriority @micasuarezmsao https://t.co/qxwh31tgl6\n",
      "rt @benj_amin11: @airtel_ug internationalcallrates for prepaid \n",
      "#arsug2016 #thesmartphonenetwork\n",
      "usa and canada 6/=per sec,e\n",
      "https://t.co/akrgd4rk0a+ isis creation of usa.cia,israel,mossad,genocid.terrorist, https://t.co/buqoo4hkog\n",
      "@seviliyahclk @tagesschau ... sind es angriffe der usa? neee - assad und seine russ. handlanger.\n",
      "rt @benj_amin11: @airtel_ug internationalcallrates for prepaid \n",
      "#arsug2016 #thesmartphonenetwork\n",
      "usa and canada 6/=per sec q\n",
      "rt @benj_amin11: @airtel_ug internationalcallrates for prepaid \n",
      "#arsug2016 #thesmartphonenetwork\n",
      "usa and canada 6/=per sec w\n",
      "usa standard gear zk d30-jk master overhaul kit fits 07-14 liberty wrangler (jk) https://t.co/ym1gyeapsi https://t.co/p4gzepeuny\n",
      "rt @benj_amin11: @airtel_ug internationalcallrates for prepaid \n",
      "#arsug2016 #thesmartphonenetwork\n",
      "usa and canada 6/=per sec e\n",
      "thanks to the 209 new followers from russia, usa, belarus, and more last week. see https://t.co/sgtfvg8d25 https://t.co/xwxcgpb9sd\n",
      "rt @benj_amin11: @airtel_ug internationalcallrates for prepaid \n",
      "#arsug2016 #thesmartphonenetwork\n",
      "usa and canada 6/=per sec r\n",
      "#news assure vs. ensure vs. insure - grammar - punctuation: #insure\n",
      "#assure vs. ensure vs. in... https://t.co/pffisnydqk #insurance #usa\n",
      "rt @obsesionyoutube: el de \"aire\"\n",
      "\n",
      "-usa aire para todo\n",
      "-algo le hace gracia: \"aire\"\n",
      "-algo no le gusta: \"aire\"\n",
      "-se va a acabar asfixiando\n",
      "#news auto insurance 2015 - reviewed and ranked: #auto insurance reviews\n",
      "#auto insurance\n",
      "best... https://t.co/nzcvzhhw9c #insurance #usa\n",
      "#news assure vs. ensure vs. insure - grammar - punctuation: #insure\n",
      "#assure vs. ensure vs. in... https://t.co/jfo9f2adkb #insurance #usa\n",
      "#news auto insurance 2015 - reviewed and ranked: #auto insurance reviews\n",
      "#auto insurance\n",
      "best... https://t.co/dyonp0ixwe #insurance #usa\n",
      "rt @benj_amin11: @airtel_ug internationalcallrates for prepaid \n",
      "#arsug2016 #thesmartphonenetwork\n",
      "usa and canada 6/=per sec t\n",
      "usa standard gear zk d30-jk master overhaul kit fits 07-14 liberty wrangler (jk) https://t.co/9ilnejfpgv https://t.co/zpdunbmeur\n",
      "rt @benj_amin11: @airtel_ug internationalcallrates for prepaid \n",
      "#arsug2016 #thesmartphonenetwork\n",
      "usa and canada 6/=per sec y\n",
      "rt @benj_amin11: @airtel_ug internationalcallrates for prepaid \n",
      "#arsug2016 #thesmartphonenetwork\n",
      "usa and canada 6/=per sec u\n",
      "job : houston tx usa - looking for ft  pt dog groomers - job description under new management. looking for ex... https://t.co/cgzotms76r\n",
      "rt @benj_amin11: @airtel_ug internationalcallrates for prepaid \n",
      "#arsug2016 #thesmartphonenetwork\n",
      "usa and canada 6/=per sec i\n",
      "rt @benj_amin11: @airtel_ug internationalcallrates for prepaid \n",
      "#arsug2016 #thesmartphonenetwork\n",
      "usa and canada 6/=per sec o\n",
      "thanks to the 131 new followers from russia, usa, uk., and more last week. see https://t.co/rpkjxryrma https://t.co/rqfbnvfkix\n",
      "senior project coordinator | nyu langone medical center: us - new york/ny/usa,  please see above nyu langone ... https://t.co/gxhsmon78l\n",
      "we confirmed what we reported yesterday. jason anderson does have a broken bone in his foot, but no quite in @elhombre_21 - go usa!\n",
      "rt @traffic_wltrade: #usa large #ivory seizure in new york https://t.co/is0codncas via #dailynews\n",
      "job: new haven ct usa - student cdl-a truck driver - we see the trucking industry from a different point of v... https://t.co/f82zuzhqyn\n",
      "vo usa de novo a tatica do dormir e se amanha etc eu etc\n",
      "https://t.co/hfmkmb4fwe\n",
      "#usa\n",
      "#ufcbrasila\n",
      "#iheartjackj\n",
      "#pac12afterdark\n",
      "#arcan_cetin\n",
      "#arkvstamu\n",
      "#stanford\n",
      "#rizinff\n",
      "#ucla\n",
      "#lina_lansberg\n",
      "@skepticnikki for clarification, if guns were not so prevalent then the usa police would not have to assume the worst in all situations\n",
      "oakland ca usa - physician locums pediatrician needed for 24 hour call in california 0657 - a california faci... https://t.co/l5kfz8nmhj\n",
      "bridgeport ct usa - company driver - heavy haul - no matter what drives you... ats is the place to be a heavy... https://t.co/kbj2wmiamd\n",
      "irvine ca usa - sales associate commercial finance - sales associate commercial finance we are offering talen... https://t.co/zigawvzoid\n",
      "i have 38 new followers from uk., usa, and more last week. see https://t.co/cakofwbolf https://t.co/wrzzxvnlby\n",
      "daily deals usa : htc desire eye m910x unlocked gsm 4g lte dual 13mp camera smartphone - white/red https://t.co/6wvgvahvss #1000\n",
      "daily deals usa : new oem samsung galaxy 2 s3 note ii oem micro usb cable 3ft https://t.co/o1ribddf7o #1000\n",
      "@de7dedag we zullen ook meer kunnen exporteren als usa ook onze, strengere, regels gaan hanteren. nivelleer naar boven, niet naar beneden !\n",
      "#black pornstar dildo fucking ms usa porn https://t.co/oj8oparvnb\n",
      "rt @laura_digrigoli: distance between italy - usa: 8631 km.\n",
      "they have saved me from 8631 km away. @fifthharmony https://t.co/8wa0rlnizg\n",
      "#usa porn vid amateur forum teen https://t.co/7uegbjhcvt\n",
      "@subhashchandra @pmoindia \n",
      "subhash sir, hum usa se ku depend hai,hamare sanshad me kab pak ko terrorist country ka prshtab  aayega plz reply\n",
      "@semajsenrab72 @kelliekelly23 he's the worst president i've ever seen!  has stifled the usa for two terms.  leftists like that.\n",
      "https://t.co/bws6m8f1gc\n",
      "rt @vogul1960: did usa and zardari want to appease india through surgical strikes into pakistan? https://t.co/vyhqy6ofw6\n",
      "saudi security forces have thwarted isis-linked terrorist operations https://t.co/gfkztje4ei  #usa #un #us #un4refugeesmigrants\n",
      "80's greatest hits - born in the usa\n",
      "#saudi interior ministry announces disruption of \"advanced\"terrorist plot:https://t.co/r7htwrslop #un4refugeesmigrants  #usa #un\n",
      "rt @kanakoybanez_: mura ramag usa ka adlaw ang sabado'g domingo\n",
      "job : santa clara ca usa - caregiver and certified nurse assistant cna - we are currently hiring caregivers a... https://t.co/58wj24xhtt\n",
      "job : santa clara ca usa - caregiver and certified nurse assistant cna - we are currently hiring caregivers a... https://t.co/wu5umyukw6\n",
      "arlington tx usa - rn - or 1182 - located in arlington - the benefits of travel nursing with cross country tr... https://t.co/zlptc7ewl1\n",
      "rt @derorcurrency: former uk ambassador exposes the truth of the \"barrel bomb\" propaganda meme.\n",
      "\n",
      "a #mustread. https://t.co/swhkhz9ftf\n",
      "rt @rogerstito1: @airtel_ug internationalcallrates for prepaid \n",
      "#arsug2016 #thesmartphonenetwork\n",
      "usa and canada 6/=per sec\n",
      "@barbarossakaya https://t.co/bws6m8f1gc\n",
      "i am looking forward to watching this over my traditional sunday roast... \n",
      "\n",
      "enjoy your hotdogs! https://t.co/hraa40awnp\n",
      "this should #pulltheplug on #hrc, #votetrump2016 #neverhillary #makeamericagreatagain https://t.co/lizoj931tf\n",
      "rt @michael5sos: last one in usa. sad https://t.co/xskcjixcvj\n",
      "rt @newskdk: https://t.co/gvsspcd4oy https://t.co/0rflaqeic0\n",
      "rt @seriesdemivida: american dad (padre made in usa) (2005 - presente) https://t.co/atjfj3fcgb\n",
      "rt @benj_amin11: @airtel_ug internationalcallrates for prepaid \n",
      "#arsug2016 #thesmartphonenetwork\n",
      "usa and canada 6/=per sec m\n",
      "@scientists4eu soon we'll be like usa. private health killing 400,000 a year...\n",
      "#missing bengal #cat in san diego, california, usa; on thursday the 13th of august, 2015. https://t.co/kpyzanwvqt\n",
      "rt @benj_amin11: @airtel_ug internationalcallrates for prepaid \n",
      "#arsug2016 #thesmartphonenetwork\n",
      "usa and canada 6/=per sec n\n",
      "rt @newskdk: @newskdk \n",
      "#illinois \n",
      "https://t.co/e12hdncj8j\n",
      "rt @benj_amin11: @airtel_ug internationalcallrates for prepaid \n",
      "#arsug2016 #thesmartphonenetwork\n",
      "usa and canada 6/=per sec b\n",
      "#porn videos miss nude pageants you porn usa https://t.co/u1bbzodv6p\n",
      "i added a video to a @youtube playlist https://t.co/evgplhgtgn usa - miss hotwheels california shares her views on accessible tourism\n",
      "rt @benj_amin11: @airtel_ug internationalcallrates for prepaid \n",
      "#arsug2016 #thesmartphonenetwork\n",
      "usa and canada 6/=per sec v\n",
      "#news assure vs. in... https://t.co/unkg1jbfrk #insurance #usa\n",
      "rt @benj_amin11: @airtel_ug internationalcallrates for prepaid \n",
      "#arsug2016 #thesmartphonenetwork\n",
      "usa and canada 6/=per sec c\n",
      "rt @benj_amin11: @airtel_ug internationalcallrates for prepaid \n",
      "#arsug2016 #thesmartphonenetwork\n",
      "usa and canada 6/=per sec x\n",
      "@crystal_fishy https://t.co/bws6m8f1gc\n",
      "wood blocks 1.5 inches (10 pack) made in usa - unfinished wooden blocks for crafts and carving, plain blank... https://t.co/udmxpxvohn\n",
      "he is a bad skittle &amp; local grad who has lived in usa for some time, now citizen. why he hates women? unknown. https://t.co/jr0ucwxe5r\n",
      "rt @itssaaqiib: rockstar atif aslam at houston, usa...! @itsaadee https://t.co/m8vjxlii60\n",
      "rt @benj_amin11: @airtel_ug internationalcallrates for prepaid \n",
      "#arsug2016 #thesmartphonenetwork\n",
      "usa and canada 6/=per sec z\n",
      "rt @benj_amin11: @airtel_ug internationalcallrates for prepaid \n",
      "#arsug2016 #thesmartphonenetwork\n",
      "usa and canada 6/=per sec l\n",
      "rt @benj_amin11: @airtel_ug internationalcallrates for prepaid \n",
      "#arsug2016 #thesmartphonenetwork\n",
      "usa and canada 6/=per sec k\n",
      "it's not about usa #1 it's about the repugs blocking  a   b l a c k   president https://t.co/7wsvkqzv9d\n",
      "rt @peppe844: @droghiere  usa lo scpino del cesso\n",
      "germany vs. usa\n",
      "\n",
      "walk vs. drive \n",
      "nutella vs. peanut butter\n",
      "bad at queuing vs. orderly\n",
      "removable kitchens vs. permanent ones\n",
      "\n",
      "#lifeingermany\n",
      "#colombia #usa #international media #no_impunidad no_impunity_to_farc  #sos\n",
      "\n",
      "read: https://t.co/sawlqaf9c7\n",
      "rt @benj_amin11: @airtel_ug internationalcallrates for prepaid \n",
      "#arsug2016 #thesmartphonenetwork\n",
      "usa and canada 6/=per sec j\n",
      "#rt #assad #usa @quenellien @alainsoraloffic avez vous un retour sur cette \"erreur\" des #usa ???  https://t.co/0gmaeamop9\n",
      "rt @benj_amin11: @airtel_ug internationalcallrates for prepaid \n",
      "#arsug2016 #thesmartphonenetwork\n",
      "usa and canada 6/=per sec h\n",
      "https://t.co/bws6m8f1gc\n",
      "thanks to the 151 new followers from finland, usa, uk., and more last week. see https://t.co/clidavyhxj https://t.co/6lny7zpsuv\n",
      "rt @benj_amin11: @airtel_ug internationalcallrates for prepaid \n",
      "#arsug2016 #thesmartphonenetwork\n",
      "usa and canada 6/=per sec g\n",
      "@maxxmono @riccardocorio1 @affaritaliani contro la moral suasion invertita, vedi  https://t.co/ajmmpmhxd4 \n",
      "https://t.co/xefwgc9tka\n",
      "rt @tcmsundaram: congrats @getcloudcherry @vinod_cc on closing $ 6m series a round and launching in usa\n",
      "rt @benj_amin11: @airtel_ug internationalcallrates for prepaid \n",
      "#arsug2016 #thesmartphonenetwork\n",
      "usa and canada 6/=per sec f\n",
      "colorado springs co usa - physician internal medicine/family practice physician locums need in colorado 9971 ... https://t.co/nfeuf2ijsa\n",
      "irving tx usa - radiation oncology locum physician in texas - texas medical facility seeks radiation oncologi... https://t.co/pwpa8yo5hz\n",
      "rt @benj_amin11: @airtel_ug internationalcallrates for prepaid \n",
      "#arsug2016 #thesmartphonenetwork\n",
      "usa and canada 6/=per sec d\n",
      "canada? or the usa? you decide! &gt;&gt; https://t.co/calbewfk3f &lt;&lt;  #applyboard https://t.co/5dwnflhqxu\n",
      "no prayers those individuals who have me killed their entire life. purgatory. how often i pray catholic? usa is prayer, vanity brats\n",
      "saudi security forces have thwarted isis-linked terrorist operations https://t.co/rewmgplxai  #usa #un #us #un4refugeesmigrants\n",
      "https://t.co/bws6m8f1gc\n",
      "sugar ray leonard auto autograph signed 4x6 photo usa olympics boxing https://t.co/bualgyv208\n",
      "#usa #deals #ebay #7244 bell+howell splashhd wv30hd 16mp waterproof camcorder https://t.co/tfsc7mx9dn https://t.co/uhpt1llivq\n",
      "#saudi interior ministry announces disruption of \"advanced\"terrorist plot:https://t.co/rewmgplxai #un4refugeesmigrants  #usa #un\n",
      "saudi interior ministry uncover isis-linked terrorist network; arrest 17 https://t.co/r9q80rxxxb  #un4refugeesmigrants #un #usa #us\n",
      "@theresa_may @putinrf_eng @jeremycorbyn @fhollande the usa broke ceasefire too. kerry in parallel universe where usa can murder no guilt...\n",
      "this world.\n",
      "i hate it.\n",
      "#syria\n",
      "russia, usa. extremists and mercenaries.\n",
      "\n",
      "scum of the earth. https://t.co/ndwl8vtolr\n",
      "madison wi usa - class a cdl regional drivers - accepting students - company pay  benefits experienced driver... https://t.co/dngfyzx7go\n",
      "job : montebello ca usa - bartender/barista/hostess - ... and restaurant. we are looking for an energetic per... https://t.co/7zwsowpg5n\n",
      "oakland ca usa - cdl a truck driver opportunity - cdl class a truck driver are you a professional driver look... https://t.co/hxdgnaqiab\n",
      "https://t.co/jz5psqomdt #retweet #win #travel #ttot #turkey #uksopro #usa #voteleave #wal #wednesdaywisdom #welovebelgium #willyonfire\n",
      "this #job might be a great fit for you: audio technician - https://t.co/zsnsuzzwrh #cruisejobs #skilledtrade #usa #hiring\n",
      "https://t.co/bws6m8f1gc\n",
      "#1308 canon ef-s 18-55mm f/3.5-5.6 ii is  lens (white box) brand new, ships from usa https://t.co/ccbgngoc1z https://t.co/uszhdrv1ur\n",
      "light cream usa vintage st strat guitar pickguard scrach plate  for fender https://t.co/nhctkrthan https://t.co/l6fnio5y4o\n",
      "social media is first of all social and then media. so start a dialogue with your followers. #socialmedia #twitter #marketing #cyprus #usa\n",
      "#savemoney #usa : #9051 sony portable wireless server (wgc10/n) &amp; 2210mah backup battery https://t.co/1p9wpjwayd https://t.co/m271tq2dam\n",
      "road trip around the usa: 50 state welcome signs - https://t.co/8njdfpjjwi\n",
      "@fattoquotidiano islamico turco ma per usa meglio se era ispanico\n",
      "usa, accoltella sei persone durante una festa a pasadena: fermato l'aggressore https://t.co/ajejwbwaxf\n",
      "#usa &gt; #2937 ds-720d mobile duplex scanner https://t.co/szlr0osbwg https://t.co/g9r7bsowzu\n",
      "jangan lewatkan konser lukas ligeti &amp; hypercolor (austria/usa) dalam #sipfest2016. https://t.co/z1mbgpmkrf https://t.co/qrokvneqmw\n",
      "https://t.co/bws6m8f1gc\n",
      "25k brisbane (q): smith, megan (usa) d. bains, roopa (aus) 61 62\n",
      "#colombia #usa #international media #no_impunidad no_impunity_to_farc  #sos\n",
      "\n",
      "read: https://t.co/jg9vlgrukl\n",
      "@fornario @anpinazionale contro la moral suasion invertita, vedi  https://t.co/ajmmpmhxd4 \n",
      "https://t.co/xefwgc9tka \n",
      "https://t.co/ynnpmhztaf\n",
      "rt @guteh_sputrats: not just in usa people reading my revolutionary and important book, also in italy...  grateful\n",
      "israel f14 (q): webb, dane (usa/@ou_mtennis) d. katz, omer (isr) 63 60\n",
      "israel f14 (q): webb, dane (usa/@ou_mtennis) d. katz, omer (isr) 63 60\n",
      "finally...\n",
      "#usa #la to #vegas #megabus #megawouldntagain #onourwayfinally https://t.co/i5dzcdcmvx\n",
      "100 free spins casino bonus at kaboo casino\n",
      "#usacasino #onlinecasino #playcasino #casino #casinoslots\n",
      "https://t.co/srlxpdberu\n",
      "https://t.co/sgbgenlamx\n",
      "rt @ledouaisien: #usa : #blacklivesmatter un partisan a battu une jeune fille blanche plein dans le visage... :-( https://t.co/vocxf5ccie\n",
      "#job #omaha (usa-ne-omaha) warehouse -- sapp brothers: duties to include but not limited to pulling and packi... https://t.co/k2zghuwzcr\n",
      "allentown pa usa - class a cdl regional drivers - accepting students - company pay  benefits experienced driv... https://t.co/1xabii72jg\n",
      "rt @israeljetaime: comme d'habitude  : turc, musulman, migrant. terroriste parfait https://t.co/kegwwyidqf\n",
      "@ghitaiacono contro la moral suasion invertita, vedi  https://t.co/ajmmpmhxd4 \n",
      "https://t.co/xefwgc9tka \n",
      "https://t.co/ynnpmhztaf\n",
      "rt @trmpwin: #killary the #merkel of #usa #soros #hundredsmillions #bribe #openborders @opensociety @alexandersoros https://t.co/llumqdhrkz\n",
      "#usa #bargains : #3997 samsung galaxy tab e 9.6\" tablet 16gb - black (sm-t560nzkuxar) https://t.co/jvprtidcwn https://t.co/njy3awytz8\n",
      "rt @aalinecastro: tem gente que fica me cutucando no fb vei, quem ainda usa isso?????? pelo amor de deus\n",
      "dear usa! https://t.co/vy8aqqlrto\n",
      "rt @usavsspain: usa principal prickly vs spanish mauricio colmenero https://t.co/dypu4bqp8v\n",
      "usa deals &gt; https://t.co/vfh7lt9s7i #779 puma roma jersey women's sneakers https://t.co/cc4dmzxqgy\n",
      "can you recommend anyone for this #job? rn - surgery/oncology 4 west - https://t.co/cijvayrddb #vets #nursing #usa https://t.co/i08gsrrmqy\n",
      "does anyone wonder why i choose something different, something better? this is hideous! texss usa!\n",
      "worcester ma usa - physician urgent care pediatrician need in massachusetts for locums coverage 8801 - a mass... https://t.co/o57gelolau\n",
      "minneapolis mn usa - remote claims supervisor - workers comp - this claims supervisor opportunity is with a r... https://t.co/qtqznreovx\n",
      "victorville ca usa - working interview locums to perm - harris medical associates is seeking a pax2fnp to wor... https://t.co/kiux6uascp\n",
      "rt @loveonvogue: warm for the winter outsold https://t.co/z2r3iyopxm\n",
      "rt @zilfstar: goodmorning usa #friends @davidcaruso1 #csimiami #horatio https://t.co/6uzkxdazyb\n",
      "https://t.co/pw7ma9ybww... https://t.co/wscsxmp8ew\n",
      "@louis armstrong nobody knows https://t.co/3fkwsjwzfp #japan #njp #nancy #lorraine #blues  #njp2016 #uk #jazz #uk #usa\n",
      "saudi security forces have thwarted isis-linked terrorist operations https://t.co/wvuz4fg2ms  #usa #un #us #un4refugeesmigrants\n",
      "https://t.co/yrwq1oq1zq free money online casino no deposit usa\n",
      "#chine et #usa ratifient la #cop21 #g20 bravo @partisocialiste et @laurentfabius @fhollande @egregoire @psparis02 https://t.co/iczhztizbz\n",
      "diabetes sales specialist d_ora - new orleans la - 80026402 - new orleans, la, 30320, usa #jobs #new orleans pls rt https://t.co/udgfezsw7j\n",
      "#usa #deals #ebay #1063 olivia + joy st monica double handle 4 colors hobo new https://t.co/zxnhma7eul https://t.co/dhurkpahca\n",
      "#saudi interior ministry announces disruption of \"advanced\"terrorist plot:https://t.co/kopkntiw7s #un4refugeesmigrants  #usa #un\n",
      "rt @humdaora: quando os pais do seu amigo te usa como bom exemplo https://t.co/icixt1xrta\n",
      "part-time employment-based immigration paralegal - usa-tx-dallas: part-time employment-based immigration para... https://t.co/m5mydpxunr\n",
      "employment-based immigration paralegal - usa-tx-dallas: employment-based immigration paralegal the candidate ... https://t.co/y0hd4hvoiv\n",
      "counselor job: san angelo tx usa - lcsw - counseling/therapy - provide counseling and - o... https://t.co/xockmzq2w0 #counselor #therapy\n",
      "saudi interior ministry uncover isis-linked terrorist network; arrest 17 https://t.co/kopkntiw7s  #un4refugeesmigrants #un #usa #us\n",
      "rt @musicnews_facts: 'cool for the summer' by demi lovato is now certified 2x platinum in the usa. https://t.co/ypcy7jnako\n",
      "sepotong cerita dakwah di harvard university , usa ...  https://t.co/if5ircgvvr\n",
      "usa new deals #667 :https://t.co/ngbkm1airy fila men's sweeper https://t.co/ss3zzsfgle\n",
      "rt @rondondiputado: usa que cuide sus fronteras. y nosotros las nuestras. https://t.co/qipfv0hbjp\n",
      "rt @humdaora: quando os pais do seu amigo te usa como bom exemplo https://t.co/icixt1xrta\n",
      "#usa #deals #ebay #7088 peter grimm tiller fedora - black hat new https://t.co/no6q2w4ybu https://t.co/yreefwm1ir\n",
      "#ebay #usa #deals #9064 dell inspiron 15.6\" laptop 4gb 500gb - black https://t.co/vnipnlulbo https://t.co/6zzlixnnd8\n",
      "https://t.co/q62qosm5nu\n",
      "#usa #deals #ebay #7746 hedgren liza crossbody 1 colors cross-body bag new https://t.co/tutfptvi5j https://t.co/jtafdg4smm\n",
      "usa new deals #667 :https://t.co/ajgpf6vpqt puma cell surin 2 men's training shoes https://t.co/ooiwoyfotx\n",
      "#vocalist ozzy osbourne bark at the moon sealed usa 1983 1st press promo lp https://t.co/8updk1rgur #ozzyosbourne https://t.co/6soiwnoeed\n",
      "#colombia #usa #international media #no_impunidad no_impunity_to_farc  #sos\n",
      "\n",
      "read: https://t.co/f6g9tdn3iv\n",
      "#usa sex guide kimberly porn https://t.co/lllqwo62df\n",
      "#law #internship internship - sales management trainee: onemain financial group, llc - fr... https://t.co/rvb7lbsarj #intern #texas #usa\n",
      "#ebay #usa #deals #8677 hl-l6200dw wireless black-and-white laser printer https://t.co/obzmw0nqo1 https://t.co/ihphuycyc9\n",
      "#accessories #usa #8807 powerbuilt 2pc magnetic spark plug socket - 641870 https://t.co/ohoghmft0y https://t.co/sdifh3ot6x\n",
      "ariana grande butera\n",
      "singer/actress\n",
      "26/06/1993 \n",
      "boca raton, florida, usa https://t.co/fom3yis8df\n",
      "uk government, #eu &amp; usa have issued a high level protest (demarche) following #japans decision to carry on whale hunting #opwhales\n",
      "@jimimurani @zavo_89 @flyingandrew91 @fedeangeli contro la moral suasion invertita, vedi  \n",
      "https://t.co/xefwgc9tka \n",
      "https://t.co/ynnpmhztaf\n",
      "esti kto s usa?\n",
      "i have 30 new followers from usa, and more last week. see https://t.co/bojwcpgu6h https://t.co/tw3nwgs19s\n",
      "pharmaceutical sales specialist - immuno-oncology - macon, ga - 80024993 - macon, ga, 31201, usa #jobs #macon pls rt https://t.co/doardkmpws\n",
      "#ebay #usa #deals #427 intel - imsourcing bx80621e52690 e5-2690 2.90g 8c 135w proc https://t.co/tk3bam9dgv https://t.co/c2hxsxsbkk\n",
      "rt @laura_digrigoli: distance between italy - usa: 8631 km.\n",
      "they have saved me from 8631 km away. @fifthharmony https://t.co/8wa0rlnizg\n",
      "#ebay #usa #deals #3850 2016-w silver proof american liberty medal (w/box &amp; coa) https://t.co/blodjuvhgn https://t.co/ax6exazo3r\n",
      "@milwaukeebonds https://t.co/bws6m8f1gc\n",
      "the #bat #usa t-shirt https://t.co/utvk3r4lmc #halloweenholiday, #halloweencostumes, #halloween, #spirithalloween\n",
      "rt @realfknnews: dear usa! https://t.co/vy8aqqlrto\n",
      "rt @lucioquincioc: #usa la escoba, limpiemos el pais,extraditemos a los narcos de nuestro  pais. .\n",
      "@foxnews sad v r americans before black and white v must respect it anthem or others country  will not respect usa or its anthem\n",
      "i have 22 new followers from usa, and more last week. see https://t.co/nhoroifcsh https://t.co/nsmyyx1uqr\n",
      "usa new deals #667 :https://t.co/lykoeerfzy moda essentials rocket youth waterproof nylon winter snow boots https://t.co/nkgwms8fld\n",
      "@maratonamusic contro la moral suasion invertita, vedi  https://t.co/ajmmpmhxd4 \n",
      "https://t.co/xefwgc9tka \n",
      "https://t.co/ynnpmhztaf\n",
      "#colombia #usa #international media #no_impunidad no_impunity_to_farc  #sos\n",
      "\n",
      "read: https://t.co/ifjvhy802d\n",
      "#usa hot deals : https://t.co/2bcezjycug ariat men's groundbreaker camo work boot steel toe - 10015192 https://t.co/p8muaxepsw\n",
      "@sputnikint https://t.co/bws6m8f1gc\n",
      "rt @johnlobbanradio: #nowplaying new music from @pink \"just like fire\" https://t.co/o56mpkfpqz - usa hit music streaming worldwide!\n",
      "@frank_rossini contro la moral suasion invertita, vedi  https://t.co/ajmmpmhxd4 \n",
      "https://t.co/xefwgc9tka \n",
      "https://t.co/ynnpmhztaf\n",
      "usa new deals #667 :https://t.co/q43emzhiel baby lion costume boys halloween fancy dress https://t.co/64bzhshqst\n",
      "usa https://t.co/la1lit2iqc\n",
      "https://t.co/shuxwblwed... https://t.co/qa5dbqkkcc\n",
      "pour bruce springsteen, donald trump est un \"abruti\" qui fait honte aux usa https://t.co/16zukr8o4l\n",
      "alhambra ca usa - automotive service manager - job description automotive service manager browning mazda of a... https://t.co/hwatb8scbm\n",
      "fullerton ca usa - magento developer - senior full stack engineer - job description winner of the 2016 oracle... https://t.co/shdyxyvitt\n",
      "rt @buchlakova: #ttip #ceta #cetabratislava #eutrade protestujuci chcu stopnut dohody s usa a kanadou.  https://t.co/geshcpt28a\n",
      "congratulations katie! @usaswimming athlete of the year!\n",
      "https://t.co/bq8dtybbla\n",
      "rt @newskdk: @newskdk \n",
      "#illinois \n",
      "https://t.co/e12hdncj8j\n",
      "@pompei5stelle contro la moral suasion invertita, vedi  https://t.co/ajmmpmhxd4 \n",
      "https://t.co/xefwgc9tka \n",
      "https://t.co/ynnpmhztaf\n",
      "\"usa versus the uk (on #quantitysurveying)\" https://t.co/doop1f5i3h by @adamjshaw on @linkedin\n",
      "@jorgeramosnews saliste d mexico porq te censuran, pero en usa te autocensuras ..\n",
      "rt @bleu63: philippe halsman usa. la. hollywood. 1962. tippi hedren. https://t.co/q9fx9xkiae\n",
      "@johanavelasco98 que vale, pero q la q sale en la foto es ella, y t vuelvo a decir q ya se q es falso, porque es ella la q lo usa\n",
      "https://t.co/bws6m8f1gc\n",
      "#buffalo #jobs (usa-ny-buffalo) 1600695 - assistant/associate/full professor - mechanical and aerospace engin... https://t.co/pgi1dvauoa\n",
      "#job #buffalo (usa-ny-buffalo) service technician (sign on bonus) - buffalo, ny: we are offering a lucrative ... https://t.co/rga8utbp89\n",
      "in the press conference following the asean-us meeting - #asean #potus #usa @anifah_aman https://t.co/9vslgioq1g\n",
      "#job #buffalo (usa-ny-buffalo) operations admin i - iii (senior):  auto req id  150090br  posting title  oper... https://t.co/shwdsyx5nd\n",
      "@giovannidisal16 contro la moral suasion invertita, vedi  https://t.co/ajmmpmhxd4 \n",
      "https://t.co/xefwgc9tka \n",
      "https://t.co/ynnpmhztaf\n",
      "#buffalo #jobs (usa-ny-buffalo) clinical informatics specialist #4741: the clinical informatics specialist wi... https://t.co/uqw6qxnmkq\n",
      "it's far too early in the am to properly digest this kind of propaganda  https://t.co/hrtvpui34q\n",
      "rt @kkarinnna77: #colombia #usa #international media #no_impunidad no_impunity_to_farc  #sos\n",
      "\n",
      "read: https://t.co/ifjvhy802d\n",
      "#usa hot deals : https://t.co/ocn9szjf36 kermit none of my business lebron james dad cap sipping tea/ meme-james https://t.co/akr8nc2bob\n",
      "glendale ca usa - technical account manager - job description the search agency is looking for a technical ac... https://t.co/eec9bjzraj\n",
      "https://t.co/bws6m8f1gc\n",
      "job: vernon ca usa - line haul truck driver / cdl driver / truck drive - line haul truck driver  -  cdl drive... https://t.co/ukdjkamviy\n",
      "*cuando @ithewaifu usa tus memes* https://t.co/czppxqyyl5\n",
      "rt @realfknnews: dear usa! https://t.co/vy8aqqlrto\n",
      "@realdonaldtrump @foxnews @ingrahamangle hillary proves again, just a dangerous wack job! https://t.co/yxh0txxpxg\n",
      "@trematerram contro la moral suasion invertita, vedi  https://t.co/ajmmpmhxd4 \n",
      "https://t.co/xefwgc9tka \n",
      "https://t.co/ynnpmhztaf\n",
      "rt @daveleifer: two campuses in the usa have been attacked in the last 2 hours. #emerson in #boston and #uiuc in il\n",
      "#usa #deals #4726 sabrent usb 2.0 to 3.5\" sata/sata ii hard drive enclosure ec-stuk https://t.co/4jtu9wtlnn https://t.co/9vtv6k4wpk\n",
      "#boutique #usa #5872 new pentax smcp-da 17-70mm f/4 al (if) sdm autofocus lens https://t.co/uv1jwcvjcu https://t.co/d2vuviwddi\n",
      "@mar_tre60 contro la moral suasion invertita, vedi  https://t.co/ajmmpmhxd4 \n",
      "https://t.co/xefwgc9tka \n",
      "https://t.co/ynnpmhztaf\n",
      "denver co usa - athletes wanted- sports minded representatives needed - sports minded- marketing x2f advertis... https://t.co/4au4bic1t0\n",
      "rt @1981bernetta: #pearland last minute car rental san antonio, texas (tx), usa https://t.co/e4fg9seztr\n",
      "#usa #canada #teamlift ole miss https://t.co/uxp78o0yjo\n",
      "#deals #usa #ebay #5261 lily bloom folky floral 4-piece collection - folky luggage set new https://t.co/wty576wnsp https://t.co/gzt7mvzi25\n",
      "@opisisturkey @ukambrichard @mevlutcavusoglu https://t.co/bws6m8f1gc\n",
      "@marilenaferraro @matteo_munno contro la moral suasion invertita,  https://t.co/ajmmpmhxd4 \n",
      "https://t.co/xefwgc9tka \n",
      "https://t.co/ynnpmhztaf\n",
      "senior underwriter https://t.co/wrbrkqlan3 #usa #america #hiring #tweetmyjobs #hr #jobopening #joblisting #jobsearch #recruiting #jobs\n",
      "#ms usa nude pics dirty sex fantasy https://t.co/yvih1o09d9\n",
      "nobody will do anything about it. not puny uk, not impotent usa, not even un. russia and china do what they like! https://t.co/rqt1zeti0a\n",
      "les usa, le clown et la furie https://t.co/brw3aulfdy\n",
      "rt @robmans101: hello world! listen to this song! https://t.co/tzhpf3nmcm\n",
      "registered nurse https://t.co/wa5zn8bk6k #usa #america #hiring #tweetmyjobs #hr #jobopening #joblisting #jobsearch #recruiting #jobs\n",
      "i have 2 new followers from usa last week. see https://t.co/kzre6rcj0v https://t.co/asapd4dckz\n",
      "#nbcnews gunmen shoot 8 in baltimore, including 3-year-old girl: three gunmen shot and wounded eig... https://t.co/z6vncbcjmz #usa #news\n",
      "@speziapolis contro la moral suasion invertita, vedi  https://t.co/ajmmpmhxd4 \n",
      "https://t.co/xefwgc9tka \n",
      "https://t.co/ynnpmhztaf\n",
      "eu https://t.co/vqfatesr3g\n",
      "the hashtag #txhsfb took the 14th place in the top20 of dallas-ft. worth's trends for saturday 24: https://t.co/pbb6j3bjh5 #trndnl\n",
      "on saturday 24, #whyihateyouin4words was trending topic in denver for 12 hours: https://t.co/3hsozf9hv4 #trndnl\n",
      "on saturday 24, #sotb was trending topic in united states for 7 hours: https://t.co/wxzfxvommz #trndnl\n",
      "on saturday 24, #cascademall was trending topic in oklahoma for 8 hours: https://t.co/3nqujqbmrz #trndnl\n",
      "the hashtag #saturdaymorning took the 5th place in the top20 of san francisco's trends for saturday 24: https://t.co/wjduv7xpnt #trndnl\n",
      "what is #beauty in underwtaer #underwater https://t.co/sdj9iwmaof #hd wallppaers now in #appstore #iphone7preorder #underwaterheritage #usa\n",
      "#0035 nikon d810 digital slr camera &amp; 24-120mm f/4 vr zoom lens kit new usa https://t.co/zopeqiiby0 https://t.co/kgykxcg9tq\n",
      "#deals #usa #ebay #347 timberland claremont 26\" upright https://t.co/m73n0jvtsx https://t.co/1zcxxevlig\n",
      "1 race; tapestry of multiple cultures; one country; usa: @hillaryclinton\n",
      "@5sos_turkey @5sos https://t.co/bws6m8f1gc\n",
      "@bombaciccio contro la moral suasion invertita, vedi  https://t.co/ajmmpmhxd4 \n",
      "https://t.co/xefwgc9tka \n",
      "https://t.co/ynnpmhztaf\n",
      "district manager https://t.co/c7idp5o3jb #usa #america #hiring #tweetmyjobs #hr #jobopening #joblisting #jobsearch #recruiting #jobs\n",
      "analytical chemist https://t.co/dikxwosfux #usa #america #hiring #tweetmyjobs #hr #jobopening #joblisting #jobsearch #recruiting #jobs\n",
      "just saw this on amazon: the beatles 'rare &amp; original' very first usa co... for $50,000.00 https://t.co/smtvyxbbdn lewat @amazon\n",
      "95 free no deposit casino bonus at rizk casino\n",
      "#usacasino #onlinecasino #playcasino #casino #casinoslots\n",
      "https://t.co/j2oryk8hbe\n",
      "https://t.co/bws6m8f1gc\n",
      "rt @wanderingtradr: pier at nantucket island: https://t.co/q1whhpbc0w beautiful scenery at cape cod, ma #travel #usa https://t.co/lpu29ytnpu\n",
      "@molumbe contro la moral suasion invertita, vedi  https://t.co/ajmmpmhxd4 \n",
      "https://t.co/xefwgc9tka \n",
      "https://t.co/ynnpmhztaf\n",
      "rt @musicnews_facts: 'cool for the summer' by demi lovato is now certified 2x platinum in the usa. https://t.co/ypcy7jnako\n",
      "80 free no deposit bonus at mrspill casino\n",
      "#usacasino #onlinecasino #playcasino #casino #casinoslots\n",
      "https://t.co/sodrr6i8xg\n",
      "@dailystarleb https://t.co/bws6m8f1gc\n",
      "cc amandine https://t.co/eb0onuzdmt\n",
      "#felizfinde #felizsabado #usa manny montes - todo es posible (feat. los profetas &amp; samally) #christians #savior #gothere\n",
      "obamaslegacy is nr.7 trending hashtag in usa in last 2 hours. https://t.co/vf2pqpn4gs #obamaslegacy\n",
      "islam is a problem world wide. https://t.co/r3bzsrauni\n",
      "#239 baby grooming and healthcare kit with travel case 10 piece brand new usa seller https://t.co/9isnnswwde https://t.co/nme7wrfgv0\n",
      "i have 22 new followers from usa, puerto rico, and more last week. see https://t.co/i9ijakbigk https://t.co/lzcgemw57c\n",
      "rt @esposasnovias: sandra colombiana usa (rt si te gusta)  esposasnovias #hotwife https://t.co/cmwebot4si\n",
      "desirable pomeranian puppies are the perfect prese 234-221-8948 https://t.co/yve19aoqdn\n",
      "maybe demise of #paperchecks https://t.co/9c0tehutfx\n",
      "rt @indiefilmfinder: lost in translation 2003 usa #drama writer/director sofia coppola.\n",
      "#indiefilm #supportindiefilm\n",
      "https://t.co/ewxpyb0i4k\n",
      "can you recommend anyone for this #job in #usa? https://t.co/ykjntahpsj #skilledtrade #hiring\n",
      "@emeraldxmoon i miss you :( come to america usa usa usa\n",
      "rt @gabrielplnheiro: #charlotteprotest o cara foi baleado mas tinha uma arma  https://t.co/qaxwaprfd3 https://t.co/i9bzm3crge\n",
      "saudi security forces have thwarted isis-linked terrorist operations https://t.co/z4ded63iur  #usa #un #us #un4refugeesmigrants\n",
      "@devcexx @lazarovinegla @opengamingmc atton no necesita ver usa el aimbot xd ahre ( atton es mi amijo sabe que lo digo a broma ) gg\n",
      "#de la garza nude teen usa virginia https://t.co/tedij2pp9t\n",
      "reed kicks game-winning field ... \n",
      " #social #tech #politics #entertainment ...\n",
      "https://t.co/vu9ltnritg https://t.co/xquvppecyp\n",
      "#saudi interior ministry announces disruption of \"advanced\"terrorist plot:https://t.co/z4ded63iur #un4refugeesmigrants  #usa #un\n",
      "#nowplaying new music from @twentyonepilots \"ride\" https://t.co/o56mpkfpqz - usa hit music streaming worldwide!\n",
      "@reutersindia https://t.co/bws6m8f1gc\n",
      "#usa #deals #ebay #2467 kingston valueram 8gb ddr3 sdram memory module https://t.co/tepzxsszrk https://t.co/ht300wiy9u\n",
      "rt @nuralisabono: https://t.co/q62qosm5nu\n",
      "saudi interior ministry uncover isis-linked terrorist network; arrest 17 https://t.co/twt3wurj7b  #un4refugeesmigrants #un #usa #us\n",
      "register to vote!!!!!!!\n",
      "https://t.co/ckelxki1rg\n",
      "can you recommend anyone for this #job in #usa? https://t.co/zjyh992h4f #retail #hiring\n",
      "metallica // global citizen festival // new york ny, usa // 24 de septiembre 2016. https://t.co/8knwc78kxo\n",
      "@chathamhouse @cjophillips @newsweekeurope https://t.co/bws6m8f1gc\n",
      "{#spareparts #usa #9183 winch mounting plate mount bracket for 1987-2006 jeep wrangler https://t.co/xawtxe8zkw https://t.co/qsevth01in\n",
      "thanks to the 18 new followers from usa, and more last week. see https://t.co/4o2yf7a1mu https://t.co/lkwnpu0eyo\n",
      "rt @mikeelchingon: when you fail history and didn't know tejas was a part of mexico until usa invaded it &amp; stole it https://t.co/wu8sr5cchf\n",
      "{#spareparts #usa #8903 jegs performance products 80429 5 pc long reach plier set https://t.co/maicerm30m https://t.co/iqxm5yn7iy\n",
      "https://t.co/bws6m8f1gc\n",
      "@jorgeramosnews los temas espinozos de usa comodamente se los dejas a michael moore\n",
      "#usa sex directory blackpornstarpink https://t.co/a5318ef9di\n",
      "rt @goosenetworkusa: gulen charter schools in the usa: in their own words: the gulen terror-cult https://t.co/olqshugztr\n",
      "https://t.co/bws6m8f1gc\n",
      "conference usa\n",
      "rt @wade_wpool: *cuando @ithewaifu usa tus memes* https://t.co/czppxqyyl5\n",
      "#usa #deals #ebay #2597 lego the hobbit - nintendo wii u - new - sealed packaging https://t.co/cgwbijwekb https://t.co/qx9b9a5x9n\n",
      "qualcuno dei miei followers usa gamemaker studio?\n",
      "gardena ca usa - payroll coordinator / specialist / adp workforce - job functions and requirements include  p... https://t.co/loa0jdzuil\n",
      "rt @miguelgrimaldo: la gente que usa la palabra \"millennial\" me da asco. pero mazo.\n",
      "placebeam usa #travel #navigation #iphone app **** $0.99 -&gt; free... https://t.co/jwhv7obkuj\n",
      "job : new york city ny usa - editorial research director - cfo publishing - the editorial research director w... https://t.co/nwxrio8yag\n",
      "#job #columbus (usa-oh-columbus) public safety offcr-regnl camp: department: public safety\n",
      "\n",
      "summary of ... https://t.co/v27w7g0bb6\n",
      "#job #columbus (usa-oh-columbus) fund accounting analyst 3 - mutual funds - columbus, oh: +  **primary locati... https://t.co/x6kww4h0zy\n",
      "#job #columbus (usa-oh-columbus) .net developer  with mri software experience: .net developer  with mri softw... https://t.co/dav1sw9vcl\n",
      "peoria az usa - cdl-a company truck drivers - referral  retention bonuses - cdl-a truck driver opportunities ... https://t.co/xxktmhylvj\n",
      "#vergonzoso https://t.co/ecbdgvzvk4\n",
      "the people chanting \"usa\" at the njpw guys and not recognizing their wrestling ability are idiotic #wcwstarrcade95 #wwenetwork\n",
      "light cream usa vintage st strat guitar pickguard scrach plate  for fender https://t.co/jkqegkum6y https://t.co/uusd9g76xa\n",
      "waikiki, honolulu, hawaii, usa https://t.co/3dkf82aoti\n",
      "the #republicans are a disaster this time #usa\n",
      "rt @wtmkevin: are you registered to vote yet? it takes less than 2 minutes. go to: https://t.co/lgx3i3vyu3 . please retweet.\n",
      "#columbus #job (usa-oh-columbus) public safety offcr-regnl camp: department: public safety\n",
      "\n",
      "summary of ... https://t.co/naakofzttl\n",
      "#columbus #job (usa-oh-columbus) fund accounting analyst 3 - mutual funds - columbus, oh: +  **primary locati... https://t.co/a7vr8drxis\n",
      "#columbus #job (usa-oh-columbus) .net developer  with mri software experience: .net developer  with mri softw... https://t.co/z1otaxfv8a\n",
      "#job #houston (usa-tx-houston) north america financial services marketing senior manager: title: north americ... https://t.co/zishkrc7lz\n",
      "#job #houston (usa-tx-houston) corporate communications and media relations manager, ny or washington dc: tit... https://t.co/bu7zdq2oc1\n",
      "sinergie.\n",
      "https://t.co/8zylkwehmn\n",
      "#job #houston (usa-tx-houston) medical records: medical records\n",
      "  \n",
      "**location:**\n",
      "  \n",
      "houston, tx\n",
      "  \n",
      "**salary:*... https://t.co/yrs5khwuky\n",
      "#job #houston (usa-tx-houston) content creation specialist - writing, seo, and videos: content creation speci... https://t.co/qtnf5wqzh1\n",
      "dear #hillary, come see the faces of real #americans  https://t.co/xhorujyows https://t.co/i3k1skfnln\n",
      "dear #hillary, come see the faces of real #americans  https://t.co/xhorujyows https://t.co/yfnrhqhcbm\n",
      "neighbors, family friends build memorial where young girl was hit and killed by car in olathe #usa https://t.co/3ekkr0kwp5\n",
      "thanks to the 11 new followers from usa, and more last week. see https://t.co/blhwnglrhl https://t.co/ootazb6zog\n",
      "reading.....\n",
      "\n",
      "https://t.co/jc2pd5eccs\n",
      "usa https://t.co/aijpbatjy1\n",
      "rt @daveleifer: two campuses in the usa have been attacked in the last 2 hours. #emerson in #boston and #uiuc in il\n",
      "@ani_news that is what we should more often, more and more joint military exercises with #usa. u.s.s.r. is past, usa isfuture\n",
      "https://t.co/kz7ttel6vh |  #san antonio, texas sol-up usa #solar #panels #energy #electrici https://t.co/j5dxxsym7c\n",
      "#usa #deals #ebay #8292 blazblue: chrono phantasma extend https://t.co/swf1lv6uz3 https://t.co/he9fibmed8\n",
      "saudi security forces have thwarted isis-linked terrorist operations https://t.co/00coddiubp  #usa #un #us #un4refugeesmigrants\n",
      "https://t.co/bws6m8f1gc\n",
      "#ebay #usa #deals #7678 desktop printing calculator https://t.co/ousvz3nvf3 https://t.co/jtbn9fs1vf\n",
      "rt @laura_digrigoli: distance between italy - usa: 8631 km.\n",
      "they have saved me from 8631 km away. @fifthharmony https://t.co/8wa0rlnizg\n",
      "stop divorce love spells caster in usa, us uk australia call 0027619248073 https://t.co/mdil8dtp7s\n",
      "#saudi interior ministry announces disruption of \"advanced\"terrorist plot:https://t.co/iqjowbb9dl #un4refugeesmigrants  #usa #un\n",
      "@rlrq0415 angryiftrump #potus! donate+cybercanvass4 @hillarycinton +trumpmanipulatesw. #fear, isreason4fearno3rdpartysave #usa what debate??\n",
      "usa jobs: recruitment manager https://t.co/oc5qghbzhw\n",
      "https://t.co/bws6m8f1gc\n",
      "saudi interior ministry uncover isis-linked terrorist network; arrest 17 https://t.co/iqjowbb9dl  #un4refugeesmigrants #un #usa #us\n",
      "assisted living ga garden grove ca usa - clinical care coordinator assisted living lvn - we... https://t.co/sb4imlnrjv #assisted #living\n",
      "#usa #deals #ebay #1847 kershaw 3410st chill knife (black, 7 inch) new https://t.co/i1nbq48zhi https://t.co/u7plzul1j2\n",
      "original genuine samsung sm-g928v galaxy s6 edge+plus (usa) dual car charger https://t.co/juannmzned https://t.co/gv7tc1hfoi\n",
      "#usa #deals #ebay #5013 mr. steam itempo plus shower control white https://t.co/afa7u2d9ts https://t.co/n3xmrqtqbj\n",
      "#ideas #usa - we all need sources of fresh ideas - maybe yours is here?\n",
      "https://t.co/2o2ex5tyfj https://t.co/hzycmihdnm\n",
      "usa standard gear sl npatrol-31 spartan locker fits 61-69 patrol https://t.co/aoc81ihpti https://t.co/aiwrjl2okm\n",
      "ka-bar ka1212 fixed knife carbon steel usa fighting knife 12\" over https://t.co/l4devy0cam https://t.co/drxuzynfgy\n",
      "#usa #deals #ebay #6233 spyderco bushcraft g-10 plainedge knife with leather sheath fb26gp https://t.co/leqb1wut8v https://t.co/9qize5vgfx\n",
      "rt @cckki: il piano d'azione #usa per balcanizzare la #siria \n",
      "https://t.co/rmo2f1mkce https://t.co/vc58jlk2i7\n",
      "ka-bar ka1212 fixed knife carbon steel usa fighting knife 12\" over https://t.co/9sbbaw2rnf https://t.co/oarld9y7qj\n",
      "free webinar \"how google can bring you new customers\"\n",
      "https://t.co/9g1jnpfgyv\n",
      "\n",
      " #socialmedia #webinar #free #cyprus #nicosia #limassol #usa\n",
      "try textnow - i got a free phone number with unlimited texting and calling to usa &amp; canada! download it from https://t.co/su5pfvfhuj\n",
      "#deals #usa #ebay #7799 four paws wee wee pads for puppies to adult dogs fp97001 wee-wee https://t.co/yl04nb6jol https://t.co/lrw31soc0p\n",
      "#ebay #usa #deals #5507 fargo 045410 ez ymcko cartridge for c50 https://t.co/tx8idhjkmc https://t.co/bemdlbs6za\n",
      "rt @israeljetaime: comme d'habitude  : turc, musulman, migrant. terroriste parfait https://t.co/kegwwyidqf\n",
      "rt @michael5sos: last one in usa. sad https://t.co/xskcjixcvj\n",
      "secret conversation para sa mga dili ma kontento ug usa. hahahahaha\n",
      "usa deals &gt; https://t.co/e68yagfz25 #779 dooney &amp; bourke amazon flap continental https://t.co/a91vtznmbg\n",
      "job : riverside ca usa - hiring veterans cdl a truck drivers needed - at kold trans we are honored to recogni... https://t.co/bxrvmu2uwn\n",
      "rt @israeljetaime: comme d'habitude  : turc, musulman, migrant. terroriste parfait https://t.co/kegwwyidqf\n",
      "#deals #usa #ebay #3766 k&amp;h manufacturing pet cot, chocolate kh1625 https://t.co/hdyxknmfrs https://t.co/alqrjozlrc\n",
      "usa standard gear za f880007 axle shaft https://t.co/uoqdx6ndbb https://t.co/tmes1gtnd0\n",
      "usa standard gear za f880007 axle shaft https://t.co/8rrwdlkyns https://t.co/knor4mklc3\n",
      "trend alert: #njdest. more trends at https://t.co/ivleifbyxy #trndnl https://t.co/qyoke6hjl5\n",
      "usa deals &gt; https://t.co/49xsjifpk7 #779 crypt keeper mask adult tales from the crypt scary horror ghoul halloween https://t.co/yq1aq7zfxy\n",
      "usa standard gear zg d80-513 ring and pinion https://t.co/n0nwfbihmo https://t.co/mlnjmhqiho\n",
      "#slc #omaha #saltlakecity #utah #nyc #california #colorado #denver #texas #florida #illinois #michigan #detroit #usa https://t.co/hnq05dbqvd\n",
      "usa standard gear za g14071751 axle shaft fits 70-81 c15/c1500 c1500 https://t.co/c4cf1abeup https://t.co/z9tk2snhg4\n",
      "#venezuela #usa #international media &amp; human rights agencies #s.o.s venezuela!\n",
      "\n",
      "read: https://t.co/rv0nfqzvdv\n",
      "https://t.co/88rpenjyij\n",
      "perseid meteor shower reaching its peak over california, usa\n",
      "usa standard gear zg d80-513 ring and pinion https://t.co/3zn3yyo3pr https://t.co/yn7qqamyr8\n",
      "rt @whitepeachgo: #peachupd8 form will now close 9/28!!! hurry if you want these cute stickers~ https://t.co/be7l4tjdu4\n",
      "usa standard gear sl npatrol-31 spartan locker fits 61-69 patrol https://t.co/3zjh04flua https://t.co/tyl8p7imw4\n",
      "want to work at norfolk southern? we're #hiring in #usa! click for details: https://t.co/vlwcqk5kum #job #civilengineer #entrylevel #jobs\n",
      "usa standard gear zg f9-350 ring and pinion https://t.co/gzh6r2w3qa https://t.co/h7nnvx7os8\n",
      "rt @pulpmx: in talking to some usa peeps, it sounds like jason anderson has a broken metatarsal bone in his foot\n",
      "usa deals &gt; https://t.co/wjykefpywr #779 revant replacement lenses for oakley oil rig 1 - multiple pack options https://t.co/malwaletua\n",
      "@liberalcubano @podemoscccp @aslanpuntocl @el_rusaka no solo eso, si no que las usa del euskera: https://t.co/9rlltscgzd\n",
      "#news stalking laws: #section 2709. 1 - title 18 - crimes and offenses\n",
      "\n",
      " 2709.1. stalking.\n",
      "\n",
      "(a) ... https://t.co/4pw24a0wcw #lawyer #usa\n",
      "new #trending #gif #newyork #london #sydney #europe #usa https://t.co/ufsfnduyvg https://t.co/zkye30divp\n",
      "rt @wtmkevin: are you registered to vote yet? it takes less than 2 minutes. go to: https://t.co/lgx3i3vyu3 . please retweet.\n",
      "usa standard gear za g14071751 axle shaft fits 70-81 c15/c1500 c1500 https://t.co/46tmwyveok https://t.co/qpfpu0a1y3\n",
      "#news stalking laws: #section 2709. 1 - title 18 - crimes and offenses\n",
      "\n",
      " 2709.1. stalking.\n",
      "\n",
      "(a) ... https://t.co/fm6eqqon8t #lawyer #usa\n",
      "usa deals &gt; https://t.co/qrsf1w6odk #779 ray-ban men's gradient active rb3386-003/8g-67 gunmetal aviator sunglasses https://t.co/mj3vh417fh\n",
      "skagit valley, washington, usa https://t.co/ghcjsrgdkq\n",
      "rt @buysexmachines: enjoy the ride of your life!\n",
      "\n",
      "*only available to our usa customers! https://t.co/dvozdgdnr6\n",
      "rt @oyyasumi: good morning usa i got a feeling that it's gonna be a wonderful day\n",
      "#venezuela #usa #international media &amp; human rights agencies #s.o.s venezuela!\n",
      "\n",
      "read: https://t.co/kcbmksgpy7\n",
      "#usa #offers &gt;&gt; #5272 apple ipad 2 64gb, wi-fi + 3g (at&amp;t), 9.7in - black (mc775ll/a) https://t.co/ajbotzzdvs https://t.co/3w3k8r6xs9\n",
      "postcard usa miami florida biscayne boulevard 73rd &amp; 74th st https://t.co/puifavw7eg https://t.co/mwate8dydq\n",
      "#job #sanfrancisco (usa-ca-san francisco) remote hybris solutions architect: remote hybris solutions architec... https://t.co/ufey3fkylv\n",
      "#job #sanfrancisco (usa-ca-san francisco) 3d developer - unreal, unity: 3d developer - unreal, unity 3d devel... https://t.co/m20ic3wfmu\n",
      "#job #sanfrancisco (usa-ca-san francisco) manager of fp&amp;a: manager of fp&amp;a manager of fp&amp;a - skills required ... https://t.co/taetcwle54\n",
      "usa https://t.co/rm6fsxxwsa\n",
      "saudi security forces have thwarted isis-linked terrorist operations https://t.co/lp4tliulsp  #usa #un #us #un4refugeesmigrants\n",
      "cell phone usa : apple iphone 6 128gb unlocked smartphone a1549 att t-mobile verizon #4422 https://t.co/lgjwsw3irv https://t.co/7rv4pn1gb7\n",
      "homosexuality usa https://t.co/w1dggtqcq8\n",
      "lets make #hillarybrokeagain ~  join https://t.co/wjtagtkftw https://t.co/iu9bpgkdps\n",
      "rt @maay_guinatica: sempre  #mpn #mcgui https://t.co/momawutwuo\n",
      "#ebay #usa #deals #9818 canon ef 24-70mm f/4 l is usm lens 6313b002 https://t.co/v8hbzheq77 https://t.co/arrwg35ezh\n",
      "lets make #hillarybrokeagain ~  join https://t.co/wjtagtkftw https://t.co/t5c0ybgykv\n",
      "rt @portchester28: thoughts with colleagues &amp; family of our 2 fellow usa firefighters killed whilst on duty #rip https://t.co/kpoe6eivic\n",
      "i have 26 new followers from usa, and more last week. see https://t.co/ptqgvok6r0 https://t.co/bcd3co6tet\n",
      "rt @scandalgh: no soporto la agresividad que usa clara discutiendo y sus ganas de hundir a la gente #ghdirecto https://t.co/lvzairndru\n",
      "#usa #bargains #78 logitech m325 wireless mouse - moody mint w/unifying receiver pc mac https://t.co/ufdrrialgy https://t.co/m1fgj9snpw\n",
      "grabe yung gerrymandering ng districts sa usa\n",
      "our latest graphical hazardous weather outlook is ready: https://t.co/zgt2oopmfm\n",
      "americans clueless \"initial #blacklivesmatter movement founded by #muslims to stir anti-govt sentiments in usa.\n",
      "les usa, le clown et la furie https://t.co/jzkshphkxa\n",
      "love #thunderstorms #thunderboltfantasy #sunday #usa #nature #california #californiadreaming https://t.co/22narklleq #natureremix #sounds\n",
      "rt @obsesionyoutube: el de \"aire\"\n",
      "\n",
      "-usa aire para todo\n",
      "-algo le hace gracia: \"aire\"\n",
      "-algo no le gusta: \"aire\"\n",
      "-se va a acabar asfixiando\n",
      "i have 46 new followers from brazil, usa, and more last week. see https://t.co/vgfvalzi2j https://t.co/wzz0ckybpv\n",
      "keep messing around with the anthem @miamidolphins. you lose today. usa has to much energy and u bring self destruction.\n",
      "rain adalah penyanyi korea pertama yg mengadakan konser internasional di madison square garden, usa :* #kfacts\n",
      "suicide bomber kills 6 in iraq https://t.co/8tq9nfd2ab 12:37:10 #usa\n",
      "belgium minor first to be granted euthanasia https://t.co/yswf3cqnwe 12:37:10 #usa\n",
      "facebook k bad sab sy ziada istemal hony wali social networking website twitter farokht hony k qareeb,\n",
      "usa media ka dawa,\n",
      "\n",
      "rpt:asim joyia\n",
      "rt @newskdk: @newskdk \n",
      "#illinois \n",
      "https://t.co/e12hdncj8j\n",
      "pippa middleton icloud hacked https://t.co/fhdaeegvll 12:37:10 #usa\n",
      "border mess, race riots, citizens attacking cops, success for obama! retweet https://t.co/4afzkx1k7x #usa #wethepeople #teaparty #tcot\n",
      "wife &amp; ms giggles ...\n",
      "#usacasino #onlinecasino #playcasino #casino #casinoslots\n",
      "https://t.co/d8qucoaxc6 https://t.co/qndt72xpwy\n"
     ]
    },
    {
     "ename": "KeyboardInterrupt",
     "evalue": "",
     "output_type": "error",
     "traceback": [
      "\u001b[1;31m---------------------------------------------------------------------------\u001b[0m",
      "\u001b[1;31mKeyboardInterrupt\u001b[0m                         Traceback (most recent call last)",
      "\u001b[1;32m<ipython-input-40-3144cd4c5e7a>\u001b[0m in \u001b[0;36m<module>\u001b[1;34m()\u001b[0m\n\u001b[0;32m     60\u001b[0m \u001b[1;33m\u001b[0m\u001b[0m\n\u001b[0;32m     61\u001b[0m     \u001b[0mstream\u001b[0m \u001b[1;33m=\u001b[0m \u001b[0mStream\u001b[0m\u001b[1;33m(\u001b[0m\u001b[0mauth\u001b[0m\u001b[1;33m,\u001b[0m \u001b[0ml\u001b[0m\u001b[1;33m)\u001b[0m\u001b[1;33m\u001b[0m\u001b[0m\n\u001b[1;32m---> 62\u001b[1;33m     \u001b[0mstream\u001b[0m\u001b[1;33m.\u001b[0m\u001b[0mfilter\u001b[0m\u001b[1;33m(\u001b[0m\u001b[0mtrack\u001b[0m\u001b[1;33m=\u001b[0m\u001b[1;33m[\u001b[0m\u001b[1;34m'usa'\u001b[0m\u001b[1;33m]\u001b[0m\u001b[1;33m)\u001b[0m\u001b[1;33m\u001b[0m\u001b[0m\n\u001b[0m",
      "\u001b[1;32mC:\\Users\\dell\\Anaconda2\\lib\\site-packages\\tweepy\\streaming.pyc\u001b[0m in \u001b[0;36mfilter\u001b[1;34m(self, follow, track, async, locations, stall_warnings, languages, encoding, filter_level)\u001b[0m\n\u001b[0;32m    443\u001b[0m         \u001b[0mself\u001b[0m\u001b[1;33m.\u001b[0m\u001b[0msession\u001b[0m\u001b[1;33m.\u001b[0m\u001b[0mparams\u001b[0m \u001b[1;33m=\u001b[0m \u001b[1;33m{\u001b[0m\u001b[1;34m'delimited'\u001b[0m\u001b[1;33m:\u001b[0m \u001b[1;34m'length'\u001b[0m\u001b[1;33m}\u001b[0m\u001b[1;33m\u001b[0m\u001b[0m\n\u001b[0;32m    444\u001b[0m         \u001b[0mself\u001b[0m\u001b[1;33m.\u001b[0m\u001b[0mhost\u001b[0m \u001b[1;33m=\u001b[0m \u001b[1;34m'stream.twitter.com'\u001b[0m\u001b[1;33m\u001b[0m\u001b[0m\n\u001b[1;32m--> 445\u001b[1;33m         \u001b[0mself\u001b[0m\u001b[1;33m.\u001b[0m\u001b[0m_start\u001b[0m\u001b[1;33m(\u001b[0m\u001b[0masync\u001b[0m\u001b[1;33m)\u001b[0m\u001b[1;33m\u001b[0m\u001b[0m\n\u001b[0m\u001b[0;32m    446\u001b[0m \u001b[1;33m\u001b[0m\u001b[0m\n\u001b[0;32m    447\u001b[0m     def sitestream(self, follow, stall_warnings=False,\n",
      "\u001b[1;32mC:\\Users\\dell\\Anaconda2\\lib\\site-packages\\tweepy\\streaming.pyc\u001b[0m in \u001b[0;36m_start\u001b[1;34m(self, async)\u001b[0m\n\u001b[0;32m    359\u001b[0m             \u001b[0mself\u001b[0m\u001b[1;33m.\u001b[0m\u001b[0m_thread\u001b[0m\u001b[1;33m.\u001b[0m\u001b[0mstart\u001b[0m\u001b[1;33m(\u001b[0m\u001b[1;33m)\u001b[0m\u001b[1;33m\u001b[0m\u001b[0m\n\u001b[0;32m    360\u001b[0m         \u001b[1;32melse\u001b[0m\u001b[1;33m:\u001b[0m\u001b[1;33m\u001b[0m\u001b[0m\n\u001b[1;32m--> 361\u001b[1;33m             \u001b[0mself\u001b[0m\u001b[1;33m.\u001b[0m\u001b[0m_run\u001b[0m\u001b[1;33m(\u001b[0m\u001b[1;33m)\u001b[0m\u001b[1;33m\u001b[0m\u001b[0m\n\u001b[0m\u001b[0;32m    362\u001b[0m \u001b[1;33m\u001b[0m\u001b[0m\n\u001b[0;32m    363\u001b[0m     \u001b[1;32mdef\u001b[0m \u001b[0mon_closed\u001b[0m\u001b[1;33m(\u001b[0m\u001b[0mself\u001b[0m\u001b[1;33m,\u001b[0m \u001b[0mresp\u001b[0m\u001b[1;33m)\u001b[0m\u001b[1;33m:\u001b[0m\u001b[1;33m\u001b[0m\u001b[0m\n",
      "\u001b[1;32mC:\\Users\\dell\\Anaconda2\\lib\\site-packages\\tweepy\\streaming.pyc\u001b[0m in \u001b[0;36m_run\u001b[1;34m(self)\u001b[0m\n\u001b[0;32m    261\u001b[0m                     \u001b[0mself\u001b[0m\u001b[1;33m.\u001b[0m\u001b[0msnooze_time\u001b[0m \u001b[1;33m=\u001b[0m \u001b[0mself\u001b[0m\u001b[1;33m.\u001b[0m\u001b[0msnooze_time_step\u001b[0m\u001b[1;33m\u001b[0m\u001b[0m\n\u001b[0;32m    262\u001b[0m                     \u001b[0mself\u001b[0m\u001b[1;33m.\u001b[0m\u001b[0mlistener\u001b[0m\u001b[1;33m.\u001b[0m\u001b[0mon_connect\u001b[0m\u001b[1;33m(\u001b[0m\u001b[1;33m)\u001b[0m\u001b[1;33m\u001b[0m\u001b[0m\n\u001b[1;32m--> 263\u001b[1;33m                     \u001b[0mself\u001b[0m\u001b[1;33m.\u001b[0m\u001b[0m_read_loop\u001b[0m\u001b[1;33m(\u001b[0m\u001b[0mresp\u001b[0m\u001b[1;33m)\u001b[0m\u001b[1;33m\u001b[0m\u001b[0m\n\u001b[0m\u001b[0;32m    264\u001b[0m             \u001b[1;32mexcept\u001b[0m \u001b[1;33m(\u001b[0m\u001b[0mTimeout\u001b[0m\u001b[1;33m,\u001b[0m \u001b[0mssl\u001b[0m\u001b[1;33m.\u001b[0m\u001b[0mSSLError\u001b[0m\u001b[1;33m)\u001b[0m \u001b[1;32mas\u001b[0m \u001b[0mexc\u001b[0m\u001b[1;33m:\u001b[0m\u001b[1;33m\u001b[0m\u001b[0m\n\u001b[0;32m    265\u001b[0m                 \u001b[1;31m# This is still necessary, as a SSLError can actually be\u001b[0m\u001b[1;33m\u001b[0m\u001b[1;33m\u001b[0m\u001b[0m\n",
      "\u001b[1;32mC:\\Users\\dell\\Anaconda2\\lib\\site-packages\\tweepy\\streaming.pyc\u001b[0m in \u001b[0;36m_read_loop\u001b[1;34m(self, resp)\u001b[0m\n\u001b[0;32m    311\u001b[0m             \u001b[0mlength\u001b[0m \u001b[1;33m=\u001b[0m \u001b[1;36m0\u001b[0m\u001b[1;33m\u001b[0m\u001b[0m\n\u001b[0;32m    312\u001b[0m             \u001b[1;32mwhile\u001b[0m \u001b[1;32mnot\u001b[0m \u001b[0mresp\u001b[0m\u001b[1;33m.\u001b[0m\u001b[0mraw\u001b[0m\u001b[1;33m.\u001b[0m\u001b[0mclosed\u001b[0m\u001b[1;33m:\u001b[0m\u001b[1;33m\u001b[0m\u001b[0m\n\u001b[1;32m--> 313\u001b[1;33m                 \u001b[0mline\u001b[0m \u001b[1;33m=\u001b[0m \u001b[0mbuf\u001b[0m\u001b[1;33m.\u001b[0m\u001b[0mread_line\u001b[0m\u001b[1;33m(\u001b[0m\u001b[1;33m)\u001b[0m\u001b[1;33m.\u001b[0m\u001b[0mstrip\u001b[0m\u001b[1;33m(\u001b[0m\u001b[1;33m)\u001b[0m\u001b[1;33m\u001b[0m\u001b[0m\n\u001b[0m\u001b[0;32m    314\u001b[0m                 \u001b[1;32mif\u001b[0m \u001b[1;32mnot\u001b[0m \u001b[0mline\u001b[0m\u001b[1;33m:\u001b[0m\u001b[1;33m\u001b[0m\u001b[0m\n\u001b[0;32m    315\u001b[0m                     \u001b[0mself\u001b[0m\u001b[1;33m.\u001b[0m\u001b[0mlistener\u001b[0m\u001b[1;33m.\u001b[0m\u001b[0mkeep_alive\u001b[0m\u001b[1;33m(\u001b[0m\u001b[1;33m)\u001b[0m  \u001b[1;31m# keep-alive new lines are expected\u001b[0m\u001b[1;33m\u001b[0m\u001b[0m\n",
      "\u001b[1;32mC:\\Users\\dell\\Anaconda2\\lib\\site-packages\\tweepy\\streaming.pyc\u001b[0m in \u001b[0;36mread_line\u001b[1;34m(self, sep)\u001b[0m\n\u001b[0;32m    177\u001b[0m             \u001b[1;32melse\u001b[0m\u001b[1;33m:\u001b[0m\u001b[1;33m\u001b[0m\u001b[0m\n\u001b[0;32m    178\u001b[0m                 \u001b[0mstart\u001b[0m \u001b[1;33m=\u001b[0m \u001b[0mlen\u001b[0m\u001b[1;33m(\u001b[0m\u001b[0mself\u001b[0m\u001b[1;33m.\u001b[0m\u001b[0m_buffer\u001b[0m\u001b[1;33m)\u001b[0m\u001b[1;33m\u001b[0m\u001b[0m\n\u001b[1;32m--> 179\u001b[1;33m             \u001b[0mself\u001b[0m\u001b[1;33m.\u001b[0m\u001b[0m_buffer\u001b[0m \u001b[1;33m+=\u001b[0m \u001b[0mself\u001b[0m\u001b[1;33m.\u001b[0m\u001b[0m_stream\u001b[0m\u001b[1;33m.\u001b[0m\u001b[0mread\u001b[0m\u001b[1;33m(\u001b[0m\u001b[0mself\u001b[0m\u001b[1;33m.\u001b[0m\u001b[0m_chunk_size\u001b[0m\u001b[1;33m)\u001b[0m\u001b[1;33m\u001b[0m\u001b[0m\n\u001b[0m\u001b[0;32m    180\u001b[0m \u001b[1;33m\u001b[0m\u001b[0m\n\u001b[0;32m    181\u001b[0m     \u001b[1;32mdef\u001b[0m \u001b[0m_pop\u001b[0m\u001b[1;33m(\u001b[0m\u001b[0mself\u001b[0m\u001b[1;33m,\u001b[0m \u001b[0mlength\u001b[0m\u001b[1;33m)\u001b[0m\u001b[1;33m:\u001b[0m\u001b[1;33m\u001b[0m\u001b[0m\n",
      "\u001b[1;32mC:\\Users\\dell\\Anaconda2\\lib\\site-packages\\requests\\packages\\urllib3\\response.pyc\u001b[0m in \u001b[0;36mread\u001b[1;34m(self, amt, decode_content, cache_content)\u001b[0m\n\u001b[0;32m    308\u001b[0m             \u001b[1;32melse\u001b[0m\u001b[1;33m:\u001b[0m\u001b[1;33m\u001b[0m\u001b[0m\n\u001b[0;32m    309\u001b[0m                 \u001b[0mcache_content\u001b[0m \u001b[1;33m=\u001b[0m \u001b[0mFalse\u001b[0m\u001b[1;33m\u001b[0m\u001b[0m\n\u001b[1;32m--> 310\u001b[1;33m                 \u001b[0mdata\u001b[0m \u001b[1;33m=\u001b[0m \u001b[0mself\u001b[0m\u001b[1;33m.\u001b[0m\u001b[0m_fp\u001b[0m\u001b[1;33m.\u001b[0m\u001b[0mread\u001b[0m\u001b[1;33m(\u001b[0m\u001b[0mamt\u001b[0m\u001b[1;33m)\u001b[0m\u001b[1;33m\u001b[0m\u001b[0m\n\u001b[0m\u001b[0;32m    311\u001b[0m                 \u001b[1;32mif\u001b[0m \u001b[0mamt\u001b[0m \u001b[1;33m!=\u001b[0m \u001b[1;36m0\u001b[0m \u001b[1;32mand\u001b[0m \u001b[1;32mnot\u001b[0m \u001b[0mdata\u001b[0m\u001b[1;33m:\u001b[0m  \u001b[1;31m# Platform-specific: Buggy versions of Python.\u001b[0m\u001b[1;33m\u001b[0m\u001b[0m\n\u001b[0;32m    312\u001b[0m                     \u001b[1;31m# Close the connection when no data is returned\u001b[0m\u001b[1;33m\u001b[0m\u001b[1;33m\u001b[0m\u001b[0m\n",
      "\u001b[1;32mC:\\Users\\dell\\Anaconda2\\lib\\httplib.pyc\u001b[0m in \u001b[0;36mread\u001b[1;34m(self, amt)\u001b[0m\n\u001b[0;32m    586\u001b[0m \u001b[1;33m\u001b[0m\u001b[0m\n\u001b[0;32m    587\u001b[0m         \u001b[1;32mif\u001b[0m \u001b[0mself\u001b[0m\u001b[1;33m.\u001b[0m\u001b[0mchunked\u001b[0m\u001b[1;33m:\u001b[0m\u001b[1;33m\u001b[0m\u001b[0m\n\u001b[1;32m--> 588\u001b[1;33m             \u001b[1;32mreturn\u001b[0m \u001b[0mself\u001b[0m\u001b[1;33m.\u001b[0m\u001b[0m_read_chunked\u001b[0m\u001b[1;33m(\u001b[0m\u001b[0mamt\u001b[0m\u001b[1;33m)\u001b[0m\u001b[1;33m\u001b[0m\u001b[0m\n\u001b[0m\u001b[0;32m    589\u001b[0m \u001b[1;33m\u001b[0m\u001b[0m\n\u001b[0;32m    590\u001b[0m         \u001b[1;32mif\u001b[0m \u001b[0mamt\u001b[0m \u001b[1;32mis\u001b[0m \u001b[0mNone\u001b[0m\u001b[1;33m:\u001b[0m\u001b[1;33m\u001b[0m\u001b[0m\n",
      "\u001b[1;32mC:\\Users\\dell\\Anaconda2\\lib\\httplib.pyc\u001b[0m in \u001b[0;36m_read_chunked\u001b[1;34m(self, amt)\u001b[0m\n\u001b[0;32m    628\u001b[0m         \u001b[1;32mwhile\u001b[0m \u001b[0mTrue\u001b[0m\u001b[1;33m:\u001b[0m\u001b[1;33m\u001b[0m\u001b[0m\n\u001b[0;32m    629\u001b[0m             \u001b[1;32mif\u001b[0m \u001b[0mchunk_left\u001b[0m \u001b[1;32mis\u001b[0m \u001b[0mNone\u001b[0m\u001b[1;33m:\u001b[0m\u001b[1;33m\u001b[0m\u001b[0m\n\u001b[1;32m--> 630\u001b[1;33m                 \u001b[0mline\u001b[0m \u001b[1;33m=\u001b[0m \u001b[0mself\u001b[0m\u001b[1;33m.\u001b[0m\u001b[0mfp\u001b[0m\u001b[1;33m.\u001b[0m\u001b[0mreadline\u001b[0m\u001b[1;33m(\u001b[0m\u001b[0m_MAXLINE\u001b[0m \u001b[1;33m+\u001b[0m \u001b[1;36m1\u001b[0m\u001b[1;33m)\u001b[0m\u001b[1;33m\u001b[0m\u001b[0m\n\u001b[0m\u001b[0;32m    631\u001b[0m                 \u001b[1;32mif\u001b[0m \u001b[0mlen\u001b[0m\u001b[1;33m(\u001b[0m\u001b[0mline\u001b[0m\u001b[1;33m)\u001b[0m \u001b[1;33m>\u001b[0m \u001b[0m_MAXLINE\u001b[0m\u001b[1;33m:\u001b[0m\u001b[1;33m\u001b[0m\u001b[0m\n\u001b[0;32m    632\u001b[0m                     \u001b[1;32mraise\u001b[0m \u001b[0mLineTooLong\u001b[0m\u001b[1;33m(\u001b[0m\u001b[1;34m\"chunk size\"\u001b[0m\u001b[1;33m)\u001b[0m\u001b[1;33m\u001b[0m\u001b[0m\n",
      "\u001b[1;32mC:\\Users\\dell\\Anaconda2\\lib\\socket.pyc\u001b[0m in \u001b[0;36mreadline\u001b[1;34m(self, size)\u001b[0m\n\u001b[0;32m    478\u001b[0m             \u001b[1;32mwhile\u001b[0m \u001b[0mTrue\u001b[0m\u001b[1;33m:\u001b[0m\u001b[1;33m\u001b[0m\u001b[0m\n\u001b[0;32m    479\u001b[0m                 \u001b[1;32mtry\u001b[0m\u001b[1;33m:\u001b[0m\u001b[1;33m\u001b[0m\u001b[0m\n\u001b[1;32m--> 480\u001b[1;33m                     \u001b[0mdata\u001b[0m \u001b[1;33m=\u001b[0m \u001b[0mself\u001b[0m\u001b[1;33m.\u001b[0m\u001b[0m_sock\u001b[0m\u001b[1;33m.\u001b[0m\u001b[0mrecv\u001b[0m\u001b[1;33m(\u001b[0m\u001b[0mself\u001b[0m\u001b[1;33m.\u001b[0m\u001b[0m_rbufsize\u001b[0m\u001b[1;33m)\u001b[0m\u001b[1;33m\u001b[0m\u001b[0m\n\u001b[0m\u001b[0;32m    481\u001b[0m                 \u001b[1;32mexcept\u001b[0m \u001b[0merror\u001b[0m\u001b[1;33m,\u001b[0m \u001b[0me\u001b[0m\u001b[1;33m:\u001b[0m\u001b[1;33m\u001b[0m\u001b[0m\n\u001b[0;32m    482\u001b[0m                     \u001b[1;32mif\u001b[0m \u001b[0me\u001b[0m\u001b[1;33m.\u001b[0m\u001b[0margs\u001b[0m\u001b[1;33m[\u001b[0m\u001b[1;36m0\u001b[0m\u001b[1;33m]\u001b[0m \u001b[1;33m==\u001b[0m \u001b[0mEINTR\u001b[0m\u001b[1;33m:\u001b[0m\u001b[1;33m\u001b[0m\u001b[0m\n",
      "\u001b[1;32mC:\\Users\\dell\\Anaconda2\\lib\\ssl.pyc\u001b[0m in \u001b[0;36mrecv\u001b[1;34m(self, buflen, flags)\u001b[0m\n\u001b[0;32m    754\u001b[0m                     \u001b[1;34m\"non-zero flags not allowed in calls to recv() on %s\"\u001b[0m \u001b[1;33m%\u001b[0m\u001b[1;33m\u001b[0m\u001b[0m\n\u001b[0;32m    755\u001b[0m                     self.__class__)\n\u001b[1;32m--> 756\u001b[1;33m             \u001b[1;32mreturn\u001b[0m \u001b[0mself\u001b[0m\u001b[1;33m.\u001b[0m\u001b[0mread\u001b[0m\u001b[1;33m(\u001b[0m\u001b[0mbuflen\u001b[0m\u001b[1;33m)\u001b[0m\u001b[1;33m\u001b[0m\u001b[0m\n\u001b[0m\u001b[0;32m    757\u001b[0m         \u001b[1;32melse\u001b[0m\u001b[1;33m:\u001b[0m\u001b[1;33m\u001b[0m\u001b[0m\n\u001b[0;32m    758\u001b[0m             \u001b[1;32mreturn\u001b[0m \u001b[0mself\u001b[0m\u001b[1;33m.\u001b[0m\u001b[0m_sock\u001b[0m\u001b[1;33m.\u001b[0m\u001b[0mrecv\u001b[0m\u001b[1;33m(\u001b[0m\u001b[0mbuflen\u001b[0m\u001b[1;33m,\u001b[0m \u001b[0mflags\u001b[0m\u001b[1;33m)\u001b[0m\u001b[1;33m\u001b[0m\u001b[0m\n",
      "\u001b[1;32mC:\\Users\\dell\\Anaconda2\\lib\\ssl.pyc\u001b[0m in \u001b[0;36mread\u001b[1;34m(self, len, buffer)\u001b[0m\n\u001b[0;32m    641\u001b[0m                 \u001b[0mv\u001b[0m \u001b[1;33m=\u001b[0m \u001b[0mself\u001b[0m\u001b[1;33m.\u001b[0m\u001b[0m_sslobj\u001b[0m\u001b[1;33m.\u001b[0m\u001b[0mread\u001b[0m\u001b[1;33m(\u001b[0m\u001b[0mlen\u001b[0m\u001b[1;33m,\u001b[0m \u001b[0mbuffer\u001b[0m\u001b[1;33m)\u001b[0m\u001b[1;33m\u001b[0m\u001b[0m\n\u001b[0;32m    642\u001b[0m             \u001b[1;32melse\u001b[0m\u001b[1;33m:\u001b[0m\u001b[1;33m\u001b[0m\u001b[0m\n\u001b[1;32m--> 643\u001b[1;33m                 \u001b[0mv\u001b[0m \u001b[1;33m=\u001b[0m \u001b[0mself\u001b[0m\u001b[1;33m.\u001b[0m\u001b[0m_sslobj\u001b[0m\u001b[1;33m.\u001b[0m\u001b[0mread\u001b[0m\u001b[1;33m(\u001b[0m\u001b[0mlen\u001b[0m\u001b[1;33m)\u001b[0m\u001b[1;33m\u001b[0m\u001b[0m\n\u001b[0m\u001b[0;32m    644\u001b[0m             \u001b[1;32mreturn\u001b[0m \u001b[0mv\u001b[0m\u001b[1;33m\u001b[0m\u001b[0m\n\u001b[0;32m    645\u001b[0m         \u001b[1;32mexcept\u001b[0m \u001b[0mSSLError\u001b[0m \u001b[1;32mas\u001b[0m \u001b[0mx\u001b[0m\u001b[1;33m:\u001b[0m\u001b[1;33m\u001b[0m\u001b[0m\n",
      "\u001b[1;31mKeyboardInterrupt\u001b[0m: "
     ]
    }
   ],
   "source": [
    "class StdOutListener(StreamListener):\n",
    "\n",
    "    def on_data(self, data):\n",
    "        \n",
    "        try:\n",
    "            \n",
    "            #Get the data\n",
    "            all_data = json.loads(data)\n",
    "            \n",
    "            #Sentiment analysis prep\n",
    "            clss = [lmMod, adaMod]\n",
    "            words = [wordFeatureNltk, wordFeature]\n",
    "            \n",
    "            #Get the tweet\n",
    "            tweet = str(all_data[\"text\"]).lower()\n",
    "            \n",
    "            #Get hashtags\n",
    "            hashtags = []\n",
    "            hashtagsRaw = all_data['entities']['hashtags']\n",
    "            if len(hashtagsRaw) != 0:\n",
    "                hashtags = []\n",
    "                for i in range(len(hashtagsRaw)):\n",
    "                    hashtags.append(str(hashtagsRaw[i]['text']))\n",
    "            \n",
    "            #Classify the tweet\n",
    "            sent = uberClassify(clss, words, tweet)\n",
    "\n",
    "            if sent != 'Not sure':\n",
    "                \n",
    "                print (tweet)\n",
    "                \n",
    "                writeToFile(sent=sent, hashtags=hashtags, tweet=tweet)\n",
    "                \n",
    "                #Ratio ploting\n",
    "                #Set time for plotting\n",
    "                x = datetime.datetime.now().strftime('%Y-%m-%d %H:%M:%S.%f')\n",
    "                \n",
    "                #Pull sent data for plotting\n",
    "                pullData = open(\"twitter-out-tweets.txt\",\"r\").read()\n",
    "                dataArray = pullData.split('\\n')\n",
    "                \n",
    "                #Set Pos/Neg Ratio for plotting\n",
    "                y = float(dataArray.count('Pos')) / dataArray.count('Neg')\n",
    "                \n",
    "                #Send for ploting\n",
    "                s.write(dict(x=x, y=y))\n",
    "                                \n",
    "        except UnicodeEncodeError:\n",
    "            \n",
    "                return True\n",
    "        \n",
    "    def on_error(self, status):\n",
    "        print(status)\n",
    "\n",
    "if __name__ == '__main__':\n",
    "    \n",
    "    l = StdOutListener()\n",
    "    auth = OAuthHandler(consumer_key, consumer_secret)\n",
    "    auth.set_access_token(access_token, access_token_secret)\n",
    "\n",
    "    stream = Stream(auth, l)\n",
    "    stream.filter(track=['usa'])"
   ]
  },
  {
   "cell_type": "markdown",
   "metadata": {},
   "source": [
    "##### Live plot Ratio"
   ]
  },
  {
   "cell_type": "code",
   "execution_count": 36,
   "metadata": {
    "collapsed": false
   },
   "outputs": [
    {
     "data": {
      "text/html": [
       "<iframe id=\"igraph\" scrolling=\"no\" style=\"border:none;\" seamless=\"seamless\" src=\"https://plot.ly/~IdoZehori37/56.embed\" height=\"525px\" width=\"100%\"></iframe>"
      ],
      "text/plain": [
       "<plotly.tools.PlotlyDisplay object>"
      ]
     },
     "execution_count": 36,
     "metadata": {},
     "output_type": "execute_result"
    }
   ],
   "source": [
    "layout = go.Layout(title='Pos / Neg Ratio')\n",
    "logReset('twitter-out-tweets.txt.txt')\n",
    "\n",
    "fig = go.Figure(data=data, layout=layout)\n",
    "py.iplot(fig, filename='tweetStreamLive')"
   ]
  },
  {
   "cell_type": "code",
   "execution_count": 50,
   "metadata": {
    "collapsed": false
   },
   "outputs": [
    {
     "data": {
      "image/png": "[encoded data removed]",
      "text/plain": [
       "<matplotlib.figure.Figure at 0xd9ff9b0>"
      ]
     },
     "metadata": {},
     "output_type": "display_data"
    }
   ],
   "source": [
    "plotHashtags(10)"
   ]
  }
 ],
 "metadata": {
  "anaconda-cloud": {},
  "kernelspec": {
   "display_name": "Python [Root]",
   "language": "python",
   "name": "Python [Root]"
  },
  "language_info": {
   "codemirror_mode": {
    "name": "ipython",
    "version": 2
   },
   "file_extension": ".py",
   "mimetype": "text/x-python",
   "name": "python",
   "nbconvert_exporter": "python",
   "pygments_lexer": "ipython2",
   "version": "2.7.12"
  }
 },
 "nbformat": 4,
 "nbformat_minor": 0
}
